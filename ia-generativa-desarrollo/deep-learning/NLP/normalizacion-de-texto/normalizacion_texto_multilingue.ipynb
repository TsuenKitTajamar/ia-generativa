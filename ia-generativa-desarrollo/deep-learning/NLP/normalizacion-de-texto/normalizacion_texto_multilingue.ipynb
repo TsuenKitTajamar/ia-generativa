{
 "cells": [
  {
   "cell_type": "markdown",
   "metadata": {},
   "source": [
    "## 🧩 FASE 1: Diagnóstico de Problemas"
   ]
  },
  {
   "cell_type": "code",
   "execution_count": 1,
   "metadata": {},
   "outputs": [
    {
     "name": "stdout",
     "output_type": "stream",
     "text": [
      "Requirement already satisfied: chardet in c:\\users\\alumno_ai\\documents\\github\\ia-generativa\\venv\\lib\\site-packages (5.2.0)\n"
     ]
    },
    {
     "name": "stderr",
     "output_type": "stream",
     "text": [
      "\n",
      "[notice] A new release of pip is available: 24.0 -> 25.1.1\n",
      "[notice] To update, run: python.exe -m pip install --upgrade pip\n"
     ]
    }
   ],
   "source": [
    "!pip install chardet"
   ]
  },
  {
   "cell_type": "code",
   "execution_count": 2,
   "metadata": {},
   "outputs": [
    {
     "name": "stdout",
     "output_type": "stream",
     "text": [
      "Codificación detectada: Windows-1254\n",
      "📦 Codificación detectada por chardet: {'encoding': 'Windows-1254', 'confidence': 0.4858157129492815, 'language': 'Turkish'}\n"
     ]
    }
   ],
   "source": [
    "### 📌 FASE 1 - TAREA 1: Diagnóstico de Problemas de Codificación\n",
    "\n",
    "import pandas as pd\n",
    "import chardet\n",
    "import re\n",
    "\n",
    "### Paso 1: Detectar codificación del archivo\n",
    "\n",
    "# 📂 Ruta del archivo CSV\n",
    "file_path = 'resenas_multilingue.csv'\n",
    "\n",
    "# 🔍 Detectar codificación probable\n",
    "with open(file_path, 'rb') as f:\n",
    "    raw_data = f.read()\n",
    "    result = chardet.detect(raw_data)\n",
    "    encoding_detected = result['encoding']\n",
    "    print(f\"Codificación detectada: {encoding_detected}\")\n",
    "\n",
    "print(\"📦 Codificación detectada por chardet:\", result)\n",
    "\n"
   ]
  },
  {
   "cell_type": "markdown",
   "metadata": {},
   "source": [
    "## 🛠️ FASE 2: Normalización Unicode y Codificación"
   ]
  },
  {
   "cell_type": "code",
   "execution_count": 3,
   "metadata": {},
   "outputs": [
    {
     "name": "stdout",
     "output_type": "stream",
     "text": [
      "✅ DataFrame reconstruido correctamente:\n",
      "                                               texto idioma  rating  \\\n",
      "0  Ãâ°ste celular es increÃÂ­ble!!! Pero tarda...     es       2   \n",
      "1  J'adore cet ordinateur! Mais le clavier est tr...     fr       4   \n",
      "2  This product is a disaster... don't buy it! #W...     en       1   \n",
      "\n",
      "       categoria  \n",
      "0  electrÃ³nicos  \n",
      "1  electrÃ³nicos  \n",
      "2  electrÃ³nicos  \n"
     ]
    }
   ],
   "source": [
    "# Paso 2: Cargar dataset respetando comas dentro de texto (usando quotechar)\n",
    "import pandas as pd\n",
    "\n",
    "file_path = 'resenas_multilingue.csv'\n",
    "encoding_usado = 'ISO-8859-1'  # O la que veas que mejor evita errores\n",
    "\n",
    "datos = []\n",
    "with open(file_path, 'r', encoding=encoding_usado) as f:\n",
    "    encabezado = f.readline().strip().split(',')  # Leer encabezado\n",
    "    for linea in f:\n",
    "        linea = linea.strip()\n",
    "        # Separar desde la derecha en 3 partes\n",
    "        try:\n",
    "            texto, categoria = linea.rsplit(',', 1)\n",
    "            texto, rating = texto.rsplit(',', 1)\n",
    "            texto, idioma = texto.rsplit(',', 1)\n",
    "            datos.append({\n",
    "                'texto': texto,\n",
    "                'idioma': idioma,\n",
    "                'rating': int(rating),\n",
    "                'categoria': categoria\n",
    "            })\n",
    "        except ValueError:\n",
    "            print(f\"❌ Línea con formato incorrecto: {linea}\")\n",
    "            continue\n",
    "\n",
    "# Crear el DataFrame manualmente\n",
    "df = pd.DataFrame(datos)\n",
    "print(\"✅ DataFrame reconstruido correctamente:\")\n",
    "print(df.head(3))\n",
    "\n"
   ]
  },
  {
   "cell_type": "code",
   "execution_count": 4,
   "metadata": {},
   "outputs": [
    {
     "data": {
      "text/html": [
       "<div>\n",
       "<style scoped>\n",
       "    .dataframe tbody tr th:only-of-type {\n",
       "        vertical-align: middle;\n",
       "    }\n",
       "\n",
       "    .dataframe tbody tr th {\n",
       "        vertical-align: top;\n",
       "    }\n",
       "\n",
       "    .dataframe thead th {\n",
       "        text-align: right;\n",
       "    }\n",
       "</style>\n",
       "<table border=\"1\" class=\"dataframe\">\n",
       "  <thead>\n",
       "    <tr style=\"text-align: right;\">\n",
       "      <th></th>\n",
       "      <th>texto</th>\n",
       "      <th>idioma</th>\n",
       "      <th>rating</th>\n",
       "      <th>categoria</th>\n",
       "    </tr>\n",
       "  </thead>\n",
       "  <tbody>\n",
       "    <tr>\n",
       "      <th>0</th>\n",
       "      <td>Ãâ°ste celular es increÃÂ­ble!!! Pero tarda...</td>\n",
       "      <td>es</td>\n",
       "      <td>2</td>\n",
       "      <td>electrÃ³nicos</td>\n",
       "    </tr>\n",
       "    <tr>\n",
       "      <th>1</th>\n",
       "      <td>J'adore cet ordinateur! Mais le clavier est tr...</td>\n",
       "      <td>fr</td>\n",
       "      <td>4</td>\n",
       "      <td>electrÃ³nicos</td>\n",
       "    </tr>\n",
       "    <tr>\n",
       "      <th>2</th>\n",
       "      <td>This product is a disaster... don't buy it! #W...</td>\n",
       "      <td>en</td>\n",
       "      <td>1</td>\n",
       "      <td>electrÃ³nicos</td>\n",
       "    </tr>\n",
       "    <tr>\n",
       "      <th>3</th>\n",
       "      <td>La camisa es bonita, pero se encogiÃÂ³ despuÃ...</td>\n",
       "      <td>es</td>\n",
       "      <td>2</td>\n",
       "      <td>ropa</td>\n",
       "    </tr>\n",
       "    <tr>\n",
       "      <th>4</th>\n",
       "      <td>Le service clientÃÂ¨le est nul!!! Je ne recom...</td>\n",
       "      <td>fr</td>\n",
       "      <td>1</td>\n",
       "      <td>servicios</td>\n",
       "    </tr>\n",
       "  </tbody>\n",
       "</table>\n",
       "</div>"
      ],
      "text/plain": [
       "                                               texto idioma  rating  \\\n",
       "0  Ãâ°ste celular es increÃÂ­ble!!! Pero tarda...     es       2   \n",
       "1  J'adore cet ordinateur! Mais le clavier est tr...     fr       4   \n",
       "2  This product is a disaster... don't buy it! #W...     en       1   \n",
       "3  La camisa es bonita, pero se encogiÃÂ³ despuÃ...     es       2   \n",
       "4  Le service clientÃÂ¨le est nul!!! Je ne recom...     fr       1   \n",
       "\n",
       "       categoria  \n",
       "0  electrÃ³nicos  \n",
       "1  electrÃ³nicos  \n",
       "2  electrÃ³nicos  \n",
       "3           ropa  \n",
       "4      servicios  "
      ]
     },
     "execution_count": 4,
     "metadata": {},
     "output_type": "execute_result"
    }
   ],
   "source": [
    "df.head(5)"
   ]
  },
  {
   "cell_type": "code",
   "execution_count": 5,
   "metadata": {},
   "outputs": [
    {
     "name": "stdout",
     "output_type": "stream",
     "text": [
      "\n",
      "📊 Resumen del diagnóstico:\n",
      "Cantidad de textos corruptos detectados: 0 de 29 filas\n",
      "\n",
      "🔍 Ejemplos de textos antes y después:\n",
      "                                               texto  \\\n",
      "0  Ãâ°ste celular es increÃÂ­ble!!! Pero tarda...   \n",
      "1  J'adore cet ordinateur! Mais le clavier est tr...   \n",
      "2  This product is a disaster... don't buy it! #W...   \n",
      "3  La camisa es bonita, pero se encogiÃÂ³ despuÃ...   \n",
      "4  Le service clientÃÂ¨le est nul!!! Je ne recom...   \n",
      "5  I'm impressed with the battery life!!! Works f...   \n",
      "6  Ãâ¡a marche nickel! Par contre, l'ÃÂ©cran e...   \n",
      "7  El envÃ­o fue rÃÂ¡pido, pero el producto esta...   \n",
      "8  Good price, but the material feels cheap. #Not...   \n",
      "9  La livraison a pris 10 jours... c'est inaccept...   \n",
      "\n",
      "                                     texto_corregido  \n",
      "0  Éste celular es increíble!!! Pero tarda 5hs en...  \n",
      "1  J'adore cet ordinateur! Mais le clavier est tr...  \n",
      "2  This product is a disaster... don't buy it! #W...  \n",
      "3  La camisa es bonita, pero se encogió después d...  \n",
      "4  Le service clientèle est nul!!! Je ne recomman...  \n",
      "5  I'm impressed with the battery life!!! Works f...  \n",
      "6  Ã‡a marche nickel! Par contre, l'écran est fra...  \n",
      "7  El envío fue rápido, pero el producto estaba d...  \n",
      "8  Good price, but the material feels cheap. #Not...  \n",
      "9  La livraison a pris 10 jours... c'est inaccept...  \n"
     ]
    }
   ],
   "source": [
    "import pandas as pd\n",
    "import unicodedata\n",
    "\n",
    "# Diccionario de reemplazos (respaldo por si la recodificación no resuelve todo)\n",
    "errores_comunes = {\n",
    "    \"Ã¡\": \"á\", \"Ã©\": \"é\", \"Ã­\": \"í\", \"Ã³\": \"ó\", \"Ãº\": \"ú\",\n",
    "    \"Ã\": \"Á\", \"Ã‰\": \"É\", \"Ã\": \"Í\", \"Ã“\": \"Ó\", \"Ãš\": \"Ú\",\n",
    "    \"Ã±\": \"ñ\", \"Ã‘\": \"Ñ\", \"Ã¼\": \"ü\", \"Ãœ\": \"Ü\",\n",
    "    \"Ã¨\": \"è\", \"Ãª\": \"ê\", \"Ã¢\": \"â\", \"Ã®\": \"î\", \"Ã´\": \"ô\", \"Ã§\": \"ç\",\n",
    "    \"Ã€\": \"À\", \"ÃŸ\": \"ß\", \"Ã¶\": \"ö\",\n",
    "    \"â\": \"'\", \"â\": \"-\", \"â\": \"—\", \"â¦\": \"…\", \n",
    "    \"â€œ\": \"“\", \"â€\": \"”\", \"â€˜\": \"‘\", \"â€™\": \"’\"\n",
    "}\n",
    "\n",
    "# Emojis relevantes para análisis de sentimiento\n",
    "emojis_utiles = {\"😊\", \"😞\", \"😠\", \"💯\", \"🔋\", \"🎧\"}\n",
    "\n",
    "def recodificar(texto):\n",
    "    try:\n",
    "        return texto.encode(\"latin1\").decode(\"utf-8\")\n",
    "    except:\n",
    "        return texto\n",
    "\n",
    "# Preservar Emojis Relevantes, eliminar símbolos no esenciales\n",
    "def eliminar_simbolos_no_utiles(texto):\n",
    "    return ''.join(ch for ch in texto if not unicodedata.category(ch).startswith(\"S\") or ch in emojis_utiles)\n",
    "\n",
    "def corregir_texto(texto):\n",
    "    texto = recodificar(texto)\n",
    "    for error, correccion in errores_comunes.items():\n",
    "        texto = texto.replace(error, correccion)\n",
    "    texto = unicodedata.normalize(\"NFC\", texto) # Normalizar Unicode (e´ → é)\n",
    "    texto = eliminar_simbolos_no_utiles(texto)\n",
    "    return texto\n",
    "\n",
    "# Detectar si hay errores después de corregir\n",
    "def detectar_textos_corruptos(texto):\n",
    "    return any(error in texto for error in errores_comunes)\n",
    "\n",
    "# Aplicar al DataFrame\n",
    "if 'texto' in df.columns:\n",
    "    df['texto_corregido'] = df['texto'].astype(str).apply(corregir_texto)\n",
    "    df['texto_corrupto'] = df['texto_corregido'].astype(str).apply(detectar_textos_corruptos)\n",
    "\n",
    "    print(\"\\n📊 Resumen del diagnóstico:\")\n",
    "    print(f\"Cantidad de textos corruptos detectados: {df['texto_corrupto'].sum()} de {len(df)} filas\")\n",
    "\n",
    "    print(\"\\n🔍 Ejemplos de textos antes y después:\")\n",
    "    print(df[['texto', 'texto_corregido']].head(10))\n",
    "else:\n",
    "    print(\"❗La columna 'texto' no existe en el DataFrame. Revisa el archivo CSV.\")\n"
   ]
  },
  {
   "cell_type": "code",
   "execution_count": 6,
   "metadata": {},
   "outputs": [
    {
     "data": {
      "text/html": [
       "<div>\n",
       "<style scoped>\n",
       "    .dataframe tbody tr th:only-of-type {\n",
       "        vertical-align: middle;\n",
       "    }\n",
       "\n",
       "    .dataframe tbody tr th {\n",
       "        vertical-align: top;\n",
       "    }\n",
       "\n",
       "    .dataframe thead th {\n",
       "        text-align: right;\n",
       "    }\n",
       "</style>\n",
       "<table border=\"1\" class=\"dataframe\">\n",
       "  <thead>\n",
       "    <tr style=\"text-align: right;\">\n",
       "      <th></th>\n",
       "      <th>texto</th>\n",
       "      <th>idioma</th>\n",
       "      <th>rating</th>\n",
       "      <th>categoria</th>\n",
       "      <th>texto_corregido</th>\n",
       "      <th>texto_corrupto</th>\n",
       "    </tr>\n",
       "  </thead>\n",
       "  <tbody>\n",
       "    <tr>\n",
       "      <th>0</th>\n",
       "      <td>Ãâ°ste celular es increÃÂ­ble!!! Pero tarda...</td>\n",
       "      <td>es</td>\n",
       "      <td>2</td>\n",
       "      <td>electrÃ³nicos</td>\n",
       "      <td>Éste celular es increíble!!! Pero tarda 5hs en...</td>\n",
       "      <td>False</td>\n",
       "    </tr>\n",
       "    <tr>\n",
       "      <th>1</th>\n",
       "      <td>J'adore cet ordinateur! Mais le clavier est tr...</td>\n",
       "      <td>fr</td>\n",
       "      <td>4</td>\n",
       "      <td>electrÃ³nicos</td>\n",
       "      <td>J'adore cet ordinateur! Mais le clavier est tr...</td>\n",
       "      <td>False</td>\n",
       "    </tr>\n",
       "    <tr>\n",
       "      <th>2</th>\n",
       "      <td>This product is a disaster... don't buy it! #W...</td>\n",
       "      <td>en</td>\n",
       "      <td>1</td>\n",
       "      <td>electrÃ³nicos</td>\n",
       "      <td>This product is a disaster... don't buy it! #W...</td>\n",
       "      <td>False</td>\n",
       "    </tr>\n",
       "    <tr>\n",
       "      <th>3</th>\n",
       "      <td>La camisa es bonita, pero se encogiÃÂ³ despuÃ...</td>\n",
       "      <td>es</td>\n",
       "      <td>2</td>\n",
       "      <td>ropa</td>\n",
       "      <td>La camisa es bonita, pero se encogió después d...</td>\n",
       "      <td>False</td>\n",
       "    </tr>\n",
       "    <tr>\n",
       "      <th>4</th>\n",
       "      <td>Le service clientÃÂ¨le est nul!!! Je ne recom...</td>\n",
       "      <td>fr</td>\n",
       "      <td>1</td>\n",
       "      <td>servicios</td>\n",
       "      <td>Le service clientèle est nul!!! Je ne recomman...</td>\n",
       "      <td>False</td>\n",
       "    </tr>\n",
       "  </tbody>\n",
       "</table>\n",
       "</div>"
      ],
      "text/plain": [
       "                                               texto idioma  rating  \\\n",
       "0  Ãâ°ste celular es increÃÂ­ble!!! Pero tarda...     es       2   \n",
       "1  J'adore cet ordinateur! Mais le clavier est tr...     fr       4   \n",
       "2  This product is a disaster... don't buy it! #W...     en       1   \n",
       "3  La camisa es bonita, pero se encogiÃÂ³ despuÃ...     es       2   \n",
       "4  Le service clientÃÂ¨le est nul!!! Je ne recom...     fr       1   \n",
       "\n",
       "       categoria                                    texto_corregido  \\\n",
       "0  electrÃ³nicos  Éste celular es increíble!!! Pero tarda 5hs en...   \n",
       "1  electrÃ³nicos  J'adore cet ordinateur! Mais le clavier est tr...   \n",
       "2  electrÃ³nicos  This product is a disaster... don't buy it! #W...   \n",
       "3           ropa  La camisa es bonita, pero se encogió después d...   \n",
       "4      servicios  Le service clientèle est nul!!! Je ne recomman...   \n",
       "\n",
       "   texto_corrupto  \n",
       "0           False  \n",
       "1           False  \n",
       "2           False  \n",
       "3           False  \n",
       "4           False  "
      ]
     },
     "execution_count": 6,
     "metadata": {},
     "output_type": "execute_result"
    }
   ],
   "source": [
    "df.head(5)"
   ]
  },
  {
   "cell_type": "markdown",
   "metadata": {},
   "source": [
    "## 📚 FASE 3: Manejo de Acentos y Contracciones"
   ]
  },
  {
   "cell_type": "code",
   "execution_count": 8,
   "metadata": {},
   "outputs": [
    {
     "name": "stdout",
     "output_type": "stream",
     "text": [
      "Collecting unidecode\n",
      "  Downloading Unidecode-1.4.0-py3-none-any.whl.metadata (13 kB)\n",
      "Downloading Unidecode-1.4.0-py3-none-any.whl (235 kB)\n",
      "   ---------------------------------------- 0.0/235.8 kB ? eta -:--:--\n",
      "   ---------------------------------------- 0.0/235.8 kB ? eta -:--:--\n",
      "   ----- --------------------------------- 30.7/235.8 kB 660.6 kB/s eta 0:00:01\n",
      "   ------------- ------------------------- 81.9/235.8 kB 919.0 kB/s eta 0:00:01\n",
      "   ---------------------------------------- 235.8/235.8 kB 2.1 MB/s eta 0:00:00\n",
      "Installing collected packages: unidecode\n",
      "Successfully installed unidecode-1.4.0\n"
     ]
    },
    {
     "name": "stderr",
     "output_type": "stream",
     "text": [
      "\n",
      "[notice] A new release of pip is available: 24.0 -> 25.1.1\n",
      "[notice] To update, run: python.exe -m pip install --upgrade pip\n"
     ]
    }
   ],
   "source": [
    "!pip install unidecode"
   ]
  },
  {
   "cell_type": "code",
   "execution_count": 10,
   "metadata": {},
   "outputs": [
    {
     "name": "stdout",
     "output_type": "stream",
     "text": [
      "                                               texto  \\\n",
      "0  Ãâ°ste celular es increÃÂ­ble!!! Pero tarda...   \n",
      "1  J'adore cet ordinateur! Mais le clavier est tr...   \n",
      "2  This product is a disaster... don't buy it! #W...   \n",
      "3  La camisa es bonita, pero se encogiÃÂ³ despuÃ...   \n",
      "4  Le service clientÃÂ¨le est nul!!! Je ne recom...   \n",
      "\n",
      "                                     texto_corregido  \\\n",
      "0  Éste celular es increíble!!! Pero tarda 5hs en...   \n",
      "1  J'adore cet ordinateur! Mais le clavier est tr...   \n",
      "2  This product is a disaster... don't buy it! #W...   \n",
      "3  La camisa es bonita, pero se encogió después d...   \n",
      "4  Le service clientèle est nul!!! Je ne recomman...   \n",
      "\n",
      "                                         texto_final  \n",
      "0  este celular es increible pero tarda 5hs en ca...  \n",
      "1  jadore cet ordinateur mais le clavier est trop...  \n",
      "2  this product is a disaster dont buy it #wasteo...  \n",
      "3  la camisa es bonita pero se encogio despues de...  \n",
      "4  le service clientele est nul je ne recommande pas  \n"
     ]
    }
   ],
   "source": [
    "### 📌 Fase 3 - Normalización Lingüística\n",
    "\n",
    "import re\n",
    "from unidecode import unidecode\n",
    "\n",
    "# Diccionario de contracciones personalizadas\n",
    "contracciones = {\n",
    "    \"q'huvo\": \"que hubo\",\n",
    "    \"pq\": \"porque\",\n",
    "    \" x \": \" por \",\n",
    "    \"dnd\": \"donde\",\n",
    "    \"k\": \"que\",\n",
    "    \"xq\": \"porque\"\n",
    "}\n",
    "\n",
    "# Función para expandir contracciones\n",
    "def expandir_contracciones(texto):\n",
    "    for contra, exp in contracciones.items():\n",
    "        texto = re.sub(r'\\b{}\\b'.format(re.escape(contra)), exp, texto, flags=re.IGNORECASE)\n",
    "    return texto\n",
    "\n",
    "# Función para normalizar hashtags: quitar acento y pasar a minúscula\n",
    "def normalizar_hashtags(texto):\n",
    "    def limpiar_hashtag(match):\n",
    "        hashtag = match.group()\n",
    "        hashtag = unidecode(hashtag)  # elimina acentos\n",
    "        return hashtag.lower()\n",
    "    return re.sub(r'#\\w+', limpiar_hashtag, texto)\n",
    "\n",
    "# Lista de idiomas donde no se elimina acento (por ejemplo: francés, portugués)\n",
    "idiomas_con_acentos_criticos = ['fr']  # puedes ampliarla si detectas el idioma\n",
    "\n",
    "# Función de limpieza final\n",
    "def limpiar_final(texto, idioma='es'):\n",
    "    if idioma != 'fr':\n",
    "        texto = unidecode(texto)  # elimina acentos si no es francés\n",
    "    texto = expandir_contracciones(texto)\n",
    "    texto = normalizar_hashtags(texto)\n",
    "    texto = re.sub(r'[^\\w\\s#😊😞]', '', texto)  # eliminar símbolos no esenciales\n",
    "    texto = re.sub(r'\\s{2,}', ' ', texto)  # eliminar espacios extra\n",
    "    return texto.strip().lower()\n",
    "\n",
    "# Aplicación al DataFrame\n",
    "df['texto_final'] = df['texto_corregido'].apply(lambda x: limpiar_final(x, idioma='es'))  # Cambia idioma si necesario\n",
    "\n",
    "# Verificación visual\n",
    "print(df[['texto', 'texto_corregido', 'texto_final']].head())\n"
   ]
  },
  {
   "cell_type": "markdown",
   "metadata": {},
   "source": [
    "## 📈 FASE 4: Evaluación de Impacto"
   ]
  },
  {
   "cell_type": "code",
   "execution_count": 23,
   "metadata": {},
   "outputs": [
    {
     "name": "stdout",
     "output_type": "stream",
     "text": [
      "sentimiento\n",
      "1    19\n",
      "0    10\n",
      "Name: count, dtype: int64\n"
     ]
    }
   ],
   "source": [
    "# Asumimos que rating va de 1 (muy malo) a 5 (muy bueno)\n",
    "# Definimos sentimiento: 1 = negativo (rating 1 o 2), 0 = positivo (rating 3 a 5)\n",
    "df['sentimiento'] = df['rating'].apply(lambda x: 1 if x <= 2 else 0)\n",
    "\n",
    "# Verificamos el balance de clases\n",
    "print(df['sentimiento'].value_counts())\n"
   ]
  },
  {
   "cell_type": "code",
   "execution_count": 22,
   "metadata": {},
   "outputs": [
    {
     "name": "stdout",
     "output_type": "stream",
     "text": [
      "Distribución de clases:\n",
      "sentimiento\n",
      "1    19\n",
      "0    10\n",
      "Name: count, dtype: int64\n",
      "\n",
      "📊 Resultados comparativos:\n",
      "         Métrica Sin Normalización Con Normalización\n",
      "0  Tokens Únicos               188               191\n",
      "1       Accuracy            83.33%            83.33%\n"
     ]
    }
   ],
   "source": [
    "import pandas as pd\n",
    "from sklearn.feature_extraction.text import CountVectorizer\n",
    "from sklearn.linear_model import LogisticRegression\n",
    "from sklearn.model_selection import train_test_split\n",
    "from sklearn.metrics import accuracy_score\n",
    "\n",
    "# --------------------------------------------------\n",
    "# Paso 1: Crear columna 'sentimiento' desde 'rating'\n",
    "# --------------------------------------------------\n",
    "# Suponemos: 1 o 2 = negativo (1), 3 a 5 = positivo (0)\n",
    "df['sentimiento'] = df['rating'].apply(lambda x: 1 if x <= 2 else 0)\n",
    "\n",
    "# Verificamos cuántos ejemplos hay de cada clase\n",
    "print(\"Distribución de clases:\")\n",
    "print(df['sentimiento'].value_counts())\n",
    "\n",
    "# --------------------------------------------------\n",
    "# Paso 2: Preparar texto y vectorizadores\n",
    "# --------------------------------------------------\n",
    "X_sin_raw = df['texto_corregido']\n",
    "X_con_raw = df['texto_final']\n",
    "y = df['sentimiento']\n",
    "\n",
    "vectorizer_sin = CountVectorizer()\n",
    "vectorizer_con = CountVectorizer()\n",
    "\n",
    "vectorizer_sin.fit(X_sin_raw)\n",
    "vectorizer_con.fit(X_con_raw)\n",
    "\n",
    "tokens_unicos_sin = len(vectorizer_sin.vocabulary_)\n",
    "tokens_unicos_con = len(vectorizer_con.vocabulary_)\n",
    "\n",
    "# --------------------------------------------------\n",
    "# Paso 3: Función de entrenamiento y evaluación\n",
    "# --------------------------------------------------\n",
    "def entrenar_y_evaluar(vectorizer, X_raw, y):\n",
    "    X = vectorizer.transform(X_raw)\n",
    "    X_train, X_test, y_train, y_test = train_test_split(\n",
    "        X, y, test_size=0.2, random_state=42, stratify=y\n",
    "    )\n",
    "    modelo = LogisticRegression(max_iter=1000)\n",
    "    modelo.fit(X_train, y_train)\n",
    "    y_pred = modelo.predict(X_test)\n",
    "    return accuracy_score(y_test, y_pred)\n",
    "\n",
    "acc_sin = entrenar_y_evaluar(vectorizer_sin, X_sin_raw, y)\n",
    "acc_con = entrenar_y_evaluar(vectorizer_con, X_con_raw, y)\n",
    "\n",
    "# --------------------------------------------------\n",
    "# Paso 4: Tabla de resultados\n",
    "# --------------------------------------------------\n",
    "tabla_resultados = pd.DataFrame({\n",
    "    'Métrica': ['Tokens Únicos', 'Accuracy'],\n",
    "    'Sin Normalización': [tokens_unicos_sin, f\"{acc_sin:.2%}\"],\n",
    "    'Con Normalización': [tokens_unicos_con, f\"{acc_con:.2%}\"]\n",
    "})\n",
    "\n",
    "print(\"\\n📊 Resultados comparativos:\")\n",
    "print(tabla_resultados)\n"
   ]
  },
  {
   "cell_type": "markdown",
   "metadata": {},
   "source": [
    "## 📁  Exportar archivos finales"
   ]
  },
  {
   "cell_type": "code",
   "execution_count": 24,
   "metadata": {},
   "outputs": [
    {
     "data": {
      "text/html": [
       "<div>\n",
       "<style scoped>\n",
       "    .dataframe tbody tr th:only-of-type {\n",
       "        vertical-align: middle;\n",
       "    }\n",
       "\n",
       "    .dataframe tbody tr th {\n",
       "        vertical-align: top;\n",
       "    }\n",
       "\n",
       "    .dataframe thead th {\n",
       "        text-align: right;\n",
       "    }\n",
       "</style>\n",
       "<table border=\"1\" class=\"dataframe\">\n",
       "  <thead>\n",
       "    <tr style=\"text-align: right;\">\n",
       "      <th></th>\n",
       "      <th>texto</th>\n",
       "      <th>idioma</th>\n",
       "      <th>rating</th>\n",
       "      <th>categoria</th>\n",
       "      <th>texto_corregido</th>\n",
       "      <th>texto_corrupto</th>\n",
       "      <th>texto_final</th>\n",
       "      <th>sentimiento</th>\n",
       "    </tr>\n",
       "  </thead>\n",
       "  <tbody>\n",
       "    <tr>\n",
       "      <th>0</th>\n",
       "      <td>Ãâ°ste celular es increÃÂ­ble!!! Pero tarda...</td>\n",
       "      <td>es</td>\n",
       "      <td>2</td>\n",
       "      <td>electrÃ³nicos</td>\n",
       "      <td>Éste celular es increíble!!! Pero tarda 5hs en...</td>\n",
       "      <td>False</td>\n",
       "      <td>este celular es increible pero tarda 5hs en ca...</td>\n",
       "      <td>1</td>\n",
       "    </tr>\n",
       "    <tr>\n",
       "      <th>1</th>\n",
       "      <td>J'adore cet ordinateur! Mais le clavier est tr...</td>\n",
       "      <td>fr</td>\n",
       "      <td>4</td>\n",
       "      <td>electrÃ³nicos</td>\n",
       "      <td>J'adore cet ordinateur! Mais le clavier est tr...</td>\n",
       "      <td>False</td>\n",
       "      <td>jadore cet ordinateur mais le clavier est trop...</td>\n",
       "      <td>0</td>\n",
       "    </tr>\n",
       "    <tr>\n",
       "      <th>2</th>\n",
       "      <td>This product is a disaster... don't buy it! #W...</td>\n",
       "      <td>en</td>\n",
       "      <td>1</td>\n",
       "      <td>electrÃ³nicos</td>\n",
       "      <td>This product is a disaster... don't buy it! #W...</td>\n",
       "      <td>False</td>\n",
       "      <td>this product is a disaster dont buy it #wasteo...</td>\n",
       "      <td>1</td>\n",
       "    </tr>\n",
       "  </tbody>\n",
       "</table>\n",
       "</div>"
      ],
      "text/plain": [
       "                                               texto idioma  rating  \\\n",
       "0  Ãâ°ste celular es increÃÂ­ble!!! Pero tarda...     es       2   \n",
       "1  J'adore cet ordinateur! Mais le clavier est tr...     fr       4   \n",
       "2  This product is a disaster... don't buy it! #W...     en       1   \n",
       "\n",
       "       categoria                                    texto_corregido  \\\n",
       "0  electrÃ³nicos  Éste celular es increíble!!! Pero tarda 5hs en...   \n",
       "1  electrÃ³nicos  J'adore cet ordinateur! Mais le clavier est tr...   \n",
       "2  electrÃ³nicos  This product is a disaster... don't buy it! #W...   \n",
       "\n",
       "   texto_corrupto                                        texto_final  \\\n",
       "0           False  este celular es increible pero tarda 5hs en ca...   \n",
       "1           False  jadore cet ordinateur mais le clavier est trop...   \n",
       "2           False  this product is a disaster dont buy it #wasteo...   \n",
       "\n",
       "   sentimiento  \n",
       "0            1  \n",
       "1            0  \n",
       "2            1  "
      ]
     },
     "execution_count": 24,
     "metadata": {},
     "output_type": "execute_result"
    }
   ],
   "source": [
    "df.head(3)"
   ]
  },
  {
   "cell_type": "code",
   "execution_count": 28,
   "metadata": {},
   "outputs": [
    {
     "name": "stdout",
     "output_type": "stream",
     "text": [
      "✅ Archivo 'texto_final.csv' exportado correctamente.\n"
     ]
    }
   ],
   "source": [
    "# Exportar solo la columna 'texto_final' a un archivo CSV\n",
    "df[['texto_final']].to_csv('outputs/texto_final.csv', index=False)\n",
    "print(\"✅ Archivo 'texto_final.csv' exportado correctamente.\")\n"
   ]
  },
  {
   "cell_type": "code",
   "execution_count": 29,
   "metadata": {},
   "outputs": [
    {
     "name": "stdout",
     "output_type": "stream",
     "text": [
      "✅ Archivo 'resenas_normalizadas.csv' exportado correctamente con todas las columnas.\n"
     ]
    }
   ],
   "source": [
    "# Exportar el DataFrame completo a CSV\n",
    "df.to_csv('outputs/resenas_normalizadas.csv', index=False)\n",
    "print(\"✅ Archivo 'resenas_normalizadas.csv' exportado correctamente con todas las columnas.\")\n"
   ]
  }
 ],
 "metadata": {
  "kernelspec": {
   "display_name": "venv",
   "language": "python",
   "name": "python3"
  },
  "language_info": {
   "codemirror_mode": {
    "name": "ipython",
    "version": 3
   },
   "file_extension": ".py",
   "mimetype": "text/x-python",
   "name": "python",
   "nbconvert_exporter": "python",
   "pygments_lexer": "ipython3",
   "version": "3.11.9"
  }
 },
 "nbformat": 4,
 "nbformat_minor": 2
}
