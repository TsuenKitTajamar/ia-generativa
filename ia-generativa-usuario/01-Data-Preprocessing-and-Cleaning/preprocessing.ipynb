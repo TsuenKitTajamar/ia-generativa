{
  "cells": [
    {
      "cell_type": "markdown",
      "metadata": {
        "id": "jDbanSwcMWgJ"
      },
      "source": [
        "# Data Preprocessing and Cleaning\n",
        "\n",
        "Data cleaning is an essential step in the process of preparing data for further processing and serving into a large language model. Without data cleaning, the language model would be limited in its ability to interpret and process the data accurately. Data cleaning helps to ensure that the data is in a consistent format, free of any inconsistencies or errors that could lead to incorrect results. It also helps to reduce the amount of time needed to process the data, as it eliminates the need to manually check for any inconsistencies or errors. Additionally, data cleaning can help to improve the accuracy of the language model by removing any irrelevant or incorrect data. By taking the time to properly clean the data, the language model can more accurately interpret and process the data, leading to better results.\n",
        "\n",
        "> 📍 Fill out the missing pieces in the source source to get everything working (indicated by `#FIXME`)."
      ]
    },
    {
      "cell_type": "markdown",
      "metadata": {
        "id": "7pPForDXMWgL"
      },
      "source": [
        "## Count tokens\n",
        "\n",
        "> **Important note**\n",
        ">\n",
        "> *You do not need to manually tokenize strings before feeding texts into the model. This will be done automatically once you put instructions into the `prompt` parameter. However, you can use the `tiktoken` library to check how a string is tokenized and count the numbers of tokens to calculate the cost of an API call. Learn more [here](https://platform.openai.com/docs/introduction/tokens).*\n",
        "\n",
        "Tokenizing text strings is an important step in natural language processing (NLP) as it helps models like GPT-3 understand the structure of a text string. Tokenizing breaks a text string into smaller pieces called tokens, which can then be analyzed and used by the model. By understanding the structure of a text string, models can better understand the meaning of the text. Additionally, tokenizing helps to determine the cost of an Azure OpenAI Service API call, as usage is priced by token. Furthermore, different models use different encodings, so it is important to tokenize text strings in the appropriate format.\n",
        "\n",
        "`tiktoken` supports three encodings used by Azure OpenAI Service models:\n",
        "\n",
        "| Encoding name | Azure OpenAI Service models |\n",
        "| ------------- | -------------- |\n",
        "| gpt2 (or r50k_base) | Most GPT-3 models |\n",
        "| p50k_base | Code models, text-davinci-002, text-davinci-003 |\n",
        "| cl100k_base | text-embedding-ada-002 |\n",
        "\n",
        "Tokens in English typically range from one character to one word (e.g. \"t\" or \"great\"), though some languages may have tokens that are shorter or longer than one character or word. Spaces are usually placed at the beginning of words (e.g. \" is\" instead of \"is \" or \"+\"is\"). You can use the Tokenizer to quickly check how a string is tokenized."
      ]
    },
    {
      "cell_type": "markdown",
      "metadata": {
        "id": "22fNutTAMWgL"
      },
      "source": [
        "To show it briefly, we will use `tiktoken` to tokenize a text string and see how the output looks like."
      ]
    },
    {
      "cell_type": "code",
      "source": [
        "!pip install tiktoken"
      ],
      "metadata": {
        "colab": {
          "base_uri": "https://localhost:8080/"
        },
        "id": "wKODy4DjMhSv",
        "outputId": "5e486245-6540-4af8-f4d9-3c3b18ac6866"
      },
      "execution_count": null,
      "outputs": [
        {
          "output_type": "stream",
          "name": "stdout",
          "text": [
            "Collecting tiktoken\n",
            "  Downloading tiktoken-0.8.0-cp310-cp310-manylinux_2_17_x86_64.manylinux2014_x86_64.whl.metadata (6.6 kB)\n",
            "Requirement already satisfied: regex>=2022.1.18 in /usr/local/lib/python3.10/dist-packages (from tiktoken) (2024.11.6)\n",
            "Requirement already satisfied: requests>=2.26.0 in /usr/local/lib/python3.10/dist-packages (from tiktoken) (2.32.3)\n",
            "Requirement already satisfied: charset-normalizer<4,>=2 in /usr/local/lib/python3.10/dist-packages (from requests>=2.26.0->tiktoken) (3.4.1)\n",
            "Requirement already satisfied: idna<4,>=2.5 in /usr/local/lib/python3.10/dist-packages (from requests>=2.26.0->tiktoken) (3.10)\n",
            "Requirement already satisfied: urllib3<3,>=1.21.1 in /usr/local/lib/python3.10/dist-packages (from requests>=2.26.0->tiktoken) (2.3.0)\n",
            "Requirement already satisfied: certifi>=2017.4.17 in /usr/local/lib/python3.10/dist-packages (from requests>=2.26.0->tiktoken) (2024.12.14)\n",
            "Downloading tiktoken-0.8.0-cp310-cp310-manylinux_2_17_x86_64.manylinux2014_x86_64.whl (1.2 MB)\n",
            "\u001b[?25l   \u001b[90m━━━━━━━━━━━━━━━━━━━━━━━━━━━━━━━━━━━━━━━━\u001b[0m \u001b[32m0.0/1.2 MB\u001b[0m \u001b[31m?\u001b[0m eta \u001b[36m-:--:--\u001b[0m\r\u001b[2K   \u001b[91m━━━\u001b[0m\u001b[90m╺\u001b[0m\u001b[90m━━━━━━━━━━━━━━━━━━━━━━━━━━━━━━━━━━━━\u001b[0m \u001b[32m0.1/1.2 MB\u001b[0m \u001b[31m2.5 MB/s\u001b[0m eta \u001b[36m0:00:01\u001b[0m\r\u001b[2K   \u001b[91m━━━━━━━━━━━━━━━━━━━━━━\u001b[0m\u001b[90m╺\u001b[0m\u001b[90m━━━━━━━━━━━━━━━━━\u001b[0m \u001b[32m0.7/1.2 MB\u001b[0m \u001b[31m9.4 MB/s\u001b[0m eta \u001b[36m0:00:01\u001b[0m\r\u001b[2K   \u001b[90m━━━━━━━━━━━━━━━━━━━━━━━━━━━━━━━━━━━━━━━━\u001b[0m \u001b[32m1.2/1.2 MB\u001b[0m \u001b[31m12.9 MB/s\u001b[0m eta \u001b[36m0:00:00\u001b[0m\n",
            "\u001b[?25hInstalling collected packages: tiktoken\n",
            "Successfully installed tiktoken-0.8.0\n"
          ]
        }
      ]
    },
    {
      "cell_type": "code",
      "execution_count": null,
      "metadata": {
        "colab": {
          "base_uri": "https://localhost:8080/"
        },
        "id": "Ao8NMWAtMWgM",
        "outputId": "7658bbbb-8a02-40d6-caef-e8b276d4b880"
      },
      "outputs": [
        {
          "output_type": "execute_result",
          "data": {
            "text/plain": [
              "[15496, 995, 11, 428, 318, 1257, 0]"
            ]
          },
          "metadata": {},
          "execution_count": 3
        }
      ],
      "source": [
        "import tiktoken\n",
        "\n",
        "encoding = tiktoken.get_encoding(\"p50k_base\")\n",
        "encoding.encode(\"Hello world, this is fun!\")"
      ]
    },
    {
      "cell_type": "markdown",
      "metadata": {
        "id": "zL2C2SsGMWgM"
      },
      "source": [
        "Write a script that shows the string tokens from an input phrase."
      ]
    },
    {
      "cell_type": "code",
      "execution_count": null,
      "metadata": {
        "colab": {
          "base_uri": "https://localhost:8080/"
        },
        "id": "x1iKWMMXMWgM",
        "outputId": "bc98c585-eb61-4c4c-9c8b-6d9d8aa5e286"
      },
      "outputs": [
        {
          "output_type": "stream",
          "name": "stdout",
          "text": [
            "Enter a phrase: Hello world, this is fun!\n",
            "Tokens: ['Hello', ' world', ',', ' this', ' is', ' fun', '!']\n"
          ]
        }
      ],
      "source": [
        "# Function to show tokens for a given input phrase\n",
        "def show_tokens(input_phrase):\n",
        "    tokens = encoding.encode(input_phrase)\n",
        "    token_strings = [encoding.decode([token]) for token in tokens]\n",
        "    return token_strings\n",
        "\n",
        "# Input phrase\n",
        "input_phrase = input(\"Enter a phrase: \")\n",
        "\n",
        "# Show the tokens for the input phrase\n",
        "tokens = show_tokens(input_phrase)\n",
        "print(f\"Tokens: {tokens}\")"
      ]
    },
    {
      "cell_type": "markdown",
      "metadata": {
        "id": "5mFBpFTFMWgM"
      },
      "source": [
        "Let's write a function to count the number of tokens in a text string."
      ]
    },
    {
      "source": [
        "def get_num_tokens_from_string(string: str, encoding_name: str='p50k_base') -> int:\n",
        "    \"\"\"Returns the number of tokens in a text string.\"\"\"\n",
        "    encoding = tiktoken.get_encoding(encoding_name)\n",
        "    num_tokens = len(encoding.encode(string))\n",
        "    return num_tokens\n",
        "\n",
        "get_num_tokens_from_string(\"Hello World, this is fun!\")"
      ],
      "cell_type": "code",
      "metadata": {
        "colab": {
          "base_uri": "https://localhost:8080/"
        },
        "id": "SyzG63rdNxU1",
        "outputId": "aab52bce-bbdd-4e9c-d352-6fcb953e5ddb"
      },
      "execution_count": null,
      "outputs": [
        {
          "output_type": "execute_result",
          "data": {
            "text/plain": [
              "7"
            ]
          },
          "metadata": {},
          "execution_count": 6
        }
      ]
    },
    {
      "cell_type": "markdown",
      "metadata": {
        "id": "xSeps-DPMWgN"
      },
      "source": [
        "## Clean data"
      ]
    },
    {
      "cell_type": "markdown",
      "metadata": {
        "id": "CQ_Q31LrMWgN"
      },
      "source": [
        "Next we'll perform some light data cleaning by removing redundant whitespace and cleaning up the punctuation to prepare the data for tokenization. Again, tokenization is not required for the model to work, but it is a good practice to do so to ensure that the data is in a consistent format and that the model is able to process the data correctly. Also, it makes sure that the request is not too long for the model as the maximum number of tokens for davinci is 2048, e.g., equivalent to around 2-3 pages of text.\n",
        "\n",
        "> **Best Practices**\n",
        "> - **Replace newlines with a single space**: Unless you're embedding code, we suggest replacing newlines (\\n) in your input with a single space, as we have observed inferior results when newlines are present."
      ]
    },
    {
      "cell_type": "code",
      "execution_count": null,
      "metadata": {
        "id": "j-CwbozwMWgN"
      },
      "outputs": [],
      "source": [
        "import re\n",
        "\n",
        "def normalize_text(string, sep_token = \" \\n \"):\n",
        "    \"\"\"Normalize text by removing unnecessary characters and altering the format of words.\"\"\"\n",
        "    # make text lowercase\n",
        "    string = re.sub(r'\\s+',  ' ', string).strip()\n",
        "    string = re.sub(r\". ,\",\"\",string)\n",
        "    # remove all instances of multiple spaces\n",
        "    string = string.replace(\"..\",\".\")\n",
        "    string = string.replace(\". .\",\".\")\n",
        "    string = string.replace(\"\\n\", \"\")\n",
        "    string = string.strip()\n",
        "    return string"
      ]
    },
    {
      "cell_type": "markdown",
      "metadata": {
        "id": "mJx3GSQhMWgN"
      },
      "source": [
        "Generate some data to test the cleaning function."
      ]
    },
    {
      "cell_type": "code",
      "execution_count": null,
      "metadata": {
        "colab": {
          "base_uri": "https://localhost:8080/"
        },
        "id": "_w2adViDMWgN",
        "outputId": "3882363d-1911-43a0-ca14-a6a7ac51a669"
      },
      "outputs": [
        {
          "output_type": "stream",
          "name": "stdout",
          "text": [
            "Test 1:\n",
            "Original: 'This is    a test   sentence.   '\n",
            "Normalized: 'This is a test sentence.'\n",
            "----------------------------------------\n",
            "Test 2:\n",
            "Original: 'Hello, world! How    are  you?    '\n",
            "Normalized: 'Hello, world! How are you?'\n",
            "----------------------------------------\n",
            "Test 3:\n",
            "Original: 'Test..\n",
            "\n",
            "String.'\n",
            "Normalized: 'Test. String.'\n",
            "----------------------------------------\n",
            "Test 4:\n",
            "Original: 'Multiple   spaces\n",
            "    between words. '\n",
            "Normalized: 'Multiple spaces between words.'\n",
            "----------------------------------------\n",
            "Test 5:\n",
            "Original: '  \n",
            "   Leading and trailing spaces.\n",
            "'\n",
            "Normalized: 'Leading and trailing spaces.'\n",
            "----------------------------------------\n",
            "Test 6:\n",
            "Original: 'Punctuation...and. spaces.,   should, be, normalized.'\n",
            "Normalized: 'Punctuation..and. spaces., should, be, normalized.'\n",
            "----------------------------------------\n",
            "Test 7:\n",
            "Original: '     \n",
            "\n",
            "   Normalized text should  be all spaces now.    '\n",
            "Normalized: 'Normalized text should be all spaces now.'\n",
            "----------------------------------------\n",
            "Test 8:\n",
            "Original: 'This is an example... sentence. More text here.'\n",
            "Normalized: 'This is an example.. sentence. More text here.'\n",
            "----------------------------------------\n"
          ]
        }
      ],
      "source": [
        "# Test cases to evaluate the function\n",
        "test_strings = [\n",
        "    \"This is    a test   sentence.   \",  # Excessive spaces\n",
        "    \"Hello, world! How    are  you?    \",  # Punctuation and spaces\n",
        "    \"Test..\\n\\nString.\",  # Periods and newlines\n",
        "    \"Multiple   spaces\\n    between words. \",  # Multiple spaces and newlines\n",
        "    \"  \\n   Leading and trailing spaces.\\n\",  # Leading and trailing spaces\n",
        "    \"Punctuation...and. spaces.,   should, be, normalized.\",  # Multiple punctuation\n",
        "    \"     \\n\\n   Normalized text should  be all spaces now.    \",  # Newlines with extra spaces\n",
        "    \"This is an example... sentence. More text here.\",  # Periods and sentence split\n",
        "]\n",
        "\n",
        "# Applying the function to test strings\n",
        "for i, test in enumerate(test_strings, 1):\n",
        "    normalized = normalize_text(test)\n",
        "    print(f\"Test {i}:\")\n",
        "    print(f\"Original: '{test}'\")\n",
        "    print(f\"Normalized: '{normalized}'\")\n",
        "    print('-' * 40)\n",
        "\n",
        "#normalize_text(text1)"
      ]
    },
    {
      "cell_type": "markdown",
      "metadata": {
        "id": "K9rY2y0oMWgN"
      },
      "source": [
        "## Ejercicio 1: Validar longitud de texto antes de enviar a OpenAI\n",
        "\n",
        "Escribe una función llamada validate_text_length que valide si un texto supera un límite de tokens especificado. Si el texto supera el límite, la función debe dividirlo en segmentos de tamaño adecuado para enviarlos al modelo de OpenAI. Usa la codificación cl100k_base.\n",
        "\n"
      ]
    },
    {
      "cell_type": "code",
      "execution_count": 17,
      "metadata": {
        "colab": {
          "base_uri": "https://localhost:8080/"
        },
        "id": "aciUDh7QMWgO",
        "outputId": "9459f1b3-e5f7-4846-a83a-94a4866b27b9"
      },
      "outputs": [
        {
          "output_type": "stream",
          "name": "stdout",
          "text": [
            "1\n",
            "1001\n"
          ]
        }
      ],
      "source": [
        "import tiktoken\n",
        "\n",
        "def validate_text_length(text, max_tokens=2048, encoding_name='cl100k_base'):\n",
        "     # Obtener el codificador para la codificación 'cl100k_base'\n",
        "    encoding = tiktoken.get_encoding(encoding_name)\n",
        "\n",
        "    # Codificar el texto para obtener los tokens\n",
        "    tokens = encoding.encode(text)\n",
        "\n",
        "    # Dividir los tokens en segmentos según el límite\n",
        "    segments = []\n",
        "    for i in range(0, len(tokens), max_tokens):\n",
        "        segments.append(encoding.decode(tokens[i:i + max_tokens]))\n",
        "\n",
        "    return segments\n",
        "\n",
        "# Prueba la función\n",
        "text = \"Lorem ipsum \" * 500  # Texto largo\n",
        "segments = validate_text_length(text)\n",
        "\n",
        "# Verifica el número de segmentos y su longitud\n",
        "print(len(segments))  # Resultado esperado: Más de 1 segmento\n",
        "print(len(tiktoken.get_encoding('cl100k_base').encode(segments[0])))  # <= XXX tokens\n",
        "##Resultado esperado:\n",
        "\n",
        "##El texto se divide en segmentos adecuados para ser procesados por OpenAI.\n",
        "##Cada segmento tendrá un número de tokens menor o igual al límite especificado.\n"
      ]
    },
    {
      "cell_type": "markdown",
      "metadata": {
        "id": "notirA7dMWgO"
      },
      "source": [
        "## Ejercicio 2: Filtrar palabras prohibidas en un texto\n",
        "\n",
        "Escribe una función llamada filter_prohibited_words que remueva palabras prohibidas de un texto antes de enviarlo a OpenAI.\n",
        "\n",
        "Como ejemplo queremos Eliminar palabras como: ['password', 'confidential', 'secret'].\n",
        "\n"
      ]
    },
    {
      "cell_type": "code",
      "execution_count": 19,
      "metadata": {
        "id": "CL-v9bMqMWgO",
        "outputId": "252b8379-0e9d-4116-8c78-d26b55f180e8",
        "colab": {
          "base_uri": "https://localhost:8080/"
        }
      },
      "outputs": [
        {
          "output_type": "stream",
          "name": "stdout",
          "text": [
            "This document contains [REDACTED] and [REDACTED] information.\n"
          ]
        }
      ],
      "source": [
        "import re\n",
        "\n",
        "def filter_prohibited_words(text, prohibited_words):\n",
        "    # Iterar sobre cada palabra prohibida y reemplazarla por '[REDACTED]'\n",
        "    for word in prohibited_words:\n",
        "        # Usamos re.sub para reemplazar las palabras prohibidas de forma segura\n",
        "        text = re.sub(r'\\b' + re.escape(word) + r'\\b', '[REDACTED]', text, flags=re.IGNORECASE)\n",
        "    return text\n",
        "\n",
        "# Prueba la función\n",
        "text = \"This document contains confidential and secret information.\"\n",
        "prohibited_words = ['password', 'confidential', 'secret']\n",
        "\n",
        "cleaned_text = filter_prohibited_words(text, prohibited_words)\n",
        "print(cleaned_text)  # Resultado esperado: \"This document contains [REDACTED] and [REDACTED] information.\"\n",
        "#Resultado esperado:\n",
        "#El texto tendrá palabras prohibidas reemplazadas por [REDACTED].\n",
        "\n"
      ]
    },
    {
      "cell_type": "markdown",
      "metadata": {
        "id": "iZmD7AYYMWgO"
      },
      "source": [
        "## Ejercicio 3: Identificar idioma del texto\n",
        "\n",
        "Crea una función detect_language que use langdetect para identificar el idioma de un texto y devuelva el código del idioma (e.g., en, es). Verifica el idioma antes de enviarlo al modelo OpenAI. Debes instalar la libreria langdetect\n"
      ]
    },
    {
      "cell_type": "code",
      "source": [
        "pip install langdetect"
      ],
      "metadata": {
        "colab": {
          "base_uri": "https://localhost:8080/"
        },
        "id": "BWhwQEfgyXxr",
        "outputId": "bbd928fa-281e-4f4c-f18f-0780ea2ad4c8"
      },
      "execution_count": 21,
      "outputs": [
        {
          "output_type": "stream",
          "name": "stdout",
          "text": [
            "Collecting langdetect\n",
            "  Downloading langdetect-1.0.9.tar.gz (981 kB)\n",
            "\u001b[?25l     \u001b[90m━━━━━━━━━━━━━━━━━━━━━━━━━━━━━━━━━━━━━━━━\u001b[0m \u001b[32m0.0/981.5 kB\u001b[0m \u001b[31m?\u001b[0m eta \u001b[36m-:--:--\u001b[0m\r\u001b[2K     \u001b[91m━━━━━━━━━\u001b[0m\u001b[90m╺\u001b[0m\u001b[90m━━━━━━━━━━━━━━━━━━━━━━━━━━━━━━\u001b[0m \u001b[32m225.3/981.5 kB\u001b[0m \u001b[31m6.8 MB/s\u001b[0m eta \u001b[36m0:00:01\u001b[0m\r\u001b[2K     \u001b[91m━━━━━━━━━━━━━━━━━━━━━━━━━━━━━━━━━━━━━━━\u001b[0m\u001b[91m╸\u001b[0m \u001b[32m972.8/981.5 kB\u001b[0m \u001b[31m17.1 MB/s\u001b[0m eta \u001b[36m0:00:01\u001b[0m\r\u001b[2K     \u001b[90m━━━━━━━━━━━━━━━━━━━━━━━━━━━━━━━━━━━━━━━━\u001b[0m \u001b[32m981.5/981.5 kB\u001b[0m \u001b[31m13.5 MB/s\u001b[0m eta \u001b[36m0:00:00\u001b[0m\n",
            "\u001b[?25h  Preparing metadata (setup.py) ... \u001b[?25l\u001b[?25hdone\n",
            "Requirement already satisfied: six in /usr/local/lib/python3.10/dist-packages (from langdetect) (1.17.0)\n",
            "Building wheels for collected packages: langdetect\n",
            "  Building wheel for langdetect (setup.py) ... \u001b[?25l\u001b[?25hdone\n",
            "  Created wheel for langdetect: filename=langdetect-1.0.9-py3-none-any.whl size=993222 sha256=ae5b05034118457494fe948a28ed1f886e1f4f03ab22790292afc4a77de813a4\n",
            "  Stored in directory: /root/.cache/pip/wheels/95/03/7d/59ea870c70ce4e5a370638b5462a7711ab78fba2f655d05106\n",
            "Successfully built langdetect\n",
            "Installing collected packages: langdetect\n",
            "Successfully installed langdetect-1.0.9\n"
          ]
        }
      ]
    },
    {
      "cell_type": "code",
      "execution_count": 22,
      "metadata": {
        "id": "giSVmKkJMWgO",
        "colab": {
          "base_uri": "https://localhost:8080/"
        },
        "outputId": "7c388851-90d1-45e7-f955-57b3ea7ae262"
      },
      "outputs": [
        {
          "output_type": "stream",
          "name": "stdout",
          "text": [
            "es\n"
          ]
        }
      ],
      "source": [
        "from langdetect import detect\n",
        "\n",
        "def detect_language(text):\n",
        "    \"\"\"Detecta el idioma de un texto.\"\"\"\n",
        "    # Detectar el idioma usando la función detect de langdetect\n",
        "    return detect(text)\n",
        "\n",
        "# Prueba la función\n",
        "text = \"Hola, este es un texto en español.\"\n",
        "language = detect_language(text)\n",
        "print(language)  # Resultado esperado: 'es' (para español)\n",
        "##Resultado esperado:\n",
        "##El idioma del texto detectado (es, en, etc.) será devuelto.\n"
      ]
    },
    {
      "cell_type": "markdown",
      "metadata": {
        "id": "_xx67IgbMWgO"
      },
      "source": [
        "## Ejercicio 5: Generar prompts efectivos\n",
        "\n",
        "Escribe una función generate_effective_prompt que genere un prompt optimizado para OpenAI, dado un tema y un objetivo. Usa plantillas como:\n",
        "“Explain [tema] in simple terms for a [audiencia].”\n",
        "\n"
      ]
    },
    {
      "cell_type": "code",
      "execution_count": 23,
      "metadata": {
        "id": "mjlNiLEFMWgP",
        "colab": {
          "base_uri": "https://localhost:8080/"
        },
        "outputId": "1106b341-6f0d-4f8e-bcc2-c3c032d601c9"
      },
      "outputs": [
        {
          "output_type": "stream",
          "name": "stdout",
          "text": [
            "Explain machine learning in simple terms for a beginner.\n"
          ]
        }
      ],
      "source": [
        "def generate_effective_prompt(topic, audience=\"general audience\"):\n",
        "    \"\"\"Genera un prompt optimizado para OpenAI.\"\"\"\n",
        "    # Plantilla para crear el prompt\n",
        "    return f\"Explain {topic} in simple terms for a {audience}.\"\n",
        "\n",
        "# Prueba la función\n",
        "topic = \"machine learning\"\n",
        "prompt = generate_effective_prompt(topic, audience=\"beginner\")\n",
        "print(prompt)  # Resultado esperado: \"Explain machine learning in simple terms for a beginner.\"\n",
        "\n",
        "\n",
        "\n"
      ]
    },
    {
      "cell_type": "markdown",
      "metadata": {
        "id": "50byUasdMWgP"
      },
      "source": [
        "## Ejercicio 6: Medir costo estimado del uso de OpenAI\n",
        "\n",
        "Crea una función estimate_cost que calcule el costo estimado de una solicitud a OpenAI basado en el número de tokens. Supón un costo de $0.02 por 1000 tokens.\n",
        "\n"
      ]
    },
    {
      "cell_type": "code",
      "source": [
        "pip install tiktoken"
      ],
      "metadata": {
        "colab": {
          "base_uri": "https://localhost:8080/"
        },
        "id": "EMPoMuCuyu7K",
        "outputId": "deee16fb-67b5-4297-95e5-83196ed52642"
      },
      "execution_count": 24,
      "outputs": [
        {
          "output_type": "stream",
          "name": "stdout",
          "text": [
            "Requirement already satisfied: tiktoken in /usr/local/lib/python3.10/dist-packages (0.8.0)\n",
            "Requirement already satisfied: regex>=2022.1.18 in /usr/local/lib/python3.10/dist-packages (from tiktoken) (2024.11.6)\n",
            "Requirement already satisfied: requests>=2.26.0 in /usr/local/lib/python3.10/dist-packages (from tiktoken) (2.32.3)\n",
            "Requirement already satisfied: charset-normalizer<4,>=2 in /usr/local/lib/python3.10/dist-packages (from requests>=2.26.0->tiktoken) (3.4.1)\n",
            "Requirement already satisfied: idna<4,>=2.5 in /usr/local/lib/python3.10/dist-packages (from requests>=2.26.0->tiktoken) (3.10)\n",
            "Requirement already satisfied: urllib3<3,>=1.21.1 in /usr/local/lib/python3.10/dist-packages (from requests>=2.26.0->tiktoken) (2.3.0)\n",
            "Requirement already satisfied: certifi>=2017.4.17 in /usr/local/lib/python3.10/dist-packages (from requests>=2.26.0->tiktoken) (2024.12.14)\n"
          ]
        }
      ]
    },
    {
      "cell_type": "code",
      "execution_count": 25,
      "metadata": {
        "id": "35z236NnMWgP",
        "colab": {
          "base_uri": "https://localhost:8080/"
        },
        "outputId": "4ba3b6d9-44eb-4a72-b672-a01c8265589f"
      },
      "outputs": [
        {
          "output_type": "stream",
          "name": "stdout",
          "text": [
            "Estimated cost: $0.0100\n"
          ]
        }
      ],
      "source": [
        "import tiktoken\n",
        "\n",
        "def estimate_cost(text, encoding_name='cl100k_base', cost_per_1k_tokens=0.02):\n",
        "    \"\"\"Calcula el costo estimado de un texto basado en el número de tokens.\"\"\"\n",
        "    # Cargar el codificador (encoding) adecuado\n",
        "    encoding = tiktoken.get_encoding(encoding_name)\n",
        "\n",
        "    # Contar el número de tokens en el texto\n",
        "    num_tokens = len(encoding.encode(text))\n",
        "\n",
        "    # Calcular el costo basado en el número de tokens\n",
        "    cost = (num_tokens / 1000) * cost_per_1k_tokens\n",
        "\n",
        "    return cost\n",
        "\n",
        "# Prueba la función\n",
        "text = \"This is a sample text.\" * 100\n",
        "cost = estimate_cost(text)\n",
        "print(f\"Estimated cost: ${cost:.4f}\")  # Resultado esperado: Costo aproximado basado en la cantidad de tokens\n",
        "\n",
        "\n"
      ]
    },
    {
      "cell_type": "markdown",
      "metadata": {
        "id": "IBiiNhF_MWgP"
      },
      "source": [
        "## Ejercicio 7: Limpiar texto JSON para OpenAI\n",
        "\n",
        "Escribe una función clean_json_text que tome un JSON como entrada y limpie todas las claves y valores de caracteres no ASCII.\n"
      ]
    },
    {
      "cell_type": "code",
      "execution_count": 26,
      "metadata": {
        "id": "pAlzIdc9MWgP",
        "colab": {
          "base_uri": "https://localhost:8080/"
        },
        "outputId": "53d09267-09c3-4e6b-ad57-b5b447128a2d"
      },
      "outputs": [
        {
          "output_type": "stream",
          "name": "stdout",
          "text": [
            "{'key1': 'Hello ', 'key2': 'Caf and th'}\n"
          ]
        }
      ],
      "source": [
        "import json\n",
        "import re\n",
        "\n",
        "def clean_value(value):\n",
        "    \"\"\"Limpia un valor eliminando caracteres no ASCII.\"\"\"\n",
        "    # Usar una expresión regular para eliminar los caracteres no ASCII\n",
        "    if isinstance(value, str):\n",
        "        return re.sub(r'[^\\x00-\\x7F]+', '', value)\n",
        "    return value\n",
        "\n",
        "def clean_json_text(json_obj):\n",
        "    \"\"\"Limpia texto JSON eliminando caracteres no ASCII.\"\"\"\n",
        "    return {clean_value(k): clean_value(v) for k, v in json_obj.items()}\n",
        "\n",
        "# Prueba la función\n",
        "data = {\"key1\": \"Hello 😊\", \"key2\": \"Café and thé\"}\n",
        "cleaned_data = clean_json_text(data)\n",
        "print(cleaned_data)  # Resultado esperado: {\"key1\": \"Hello \", \"key2\": \"Caf and th\"}\n"
      ]
    }
  ],
  "metadata": {
    "kernelspec": {
      "display_name": "Python [conda env:base] *",
      "language": "python",
      "name": "conda-base-py"
    },
    "language_info": {
      "codemirror_mode": {
        "name": "ipython",
        "version": 3
      },
      "file_extension": ".py",
      "mimetype": "text/x-python",
      "name": "python",
      "nbconvert_exporter": "python",
      "pygments_lexer": "ipython3",
      "version": "3.12.7"
    },
    "vscode": {
      "interpreter": {
        "hash": "eb4a0ac80907d7f44e1a5e88d3d3381b33e3dbedd3a24d113e876f30a0c46bee"
      }
    },
    "colab": {
      "provenance": []
    }
  },
  "nbformat": 4,
  "nbformat_minor": 0
}
