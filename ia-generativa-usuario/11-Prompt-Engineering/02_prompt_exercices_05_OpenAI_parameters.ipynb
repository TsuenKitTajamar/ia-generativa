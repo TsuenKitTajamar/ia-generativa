{
  "cells": [
    {
      "cell_type": "markdown",
      "metadata": {
        "id": "2L0p5FtIWgll"
      },
      "source": [
        "# OpenAI Parameters"
      ]
    },
    {
      "cell_type": "markdown",
      "metadata": {
        "id": "PbgoIlOfWglm"
      },
      "source": [
        "# Overview\n",
        "\n",
        "https://github.com/tamasma/master-ia-tajamar/blob/main/05_OpenAI_parameters.ipynb\n",
        "\n",
        "When making requests to OpenAI models, several parameters can be used to control the behavior and output of the model. \\\n",
        "Understanding these parameters helps in fine-tuning the responses to meet specific requirements, whether for generating text, answering questions, or any other use case.\n",
        "\n",
        "For more detailed examples, refer to the official documentation [Azure OpenAI Service](https://learn.microsoft.com/en-us/azure/ai-services/openai/reference)\n"
      ]
    },
    {
      "cell_type": "code",
      "execution_count": null,
      "metadata": {
        "colab": {
          "base_uri": "https://localhost:8080/"
        },
        "id": "-GIDXsdOWglm",
        "outputId": "c7cfc9b2-626f-4478-f679-e6ca47c9e42c"
      },
      "outputs": [
        {
          "output_type": "stream",
          "name": "stdout",
          "text": [
            "Requirement already satisfied: openai in /usr/local/lib/python3.11/dist-packages (1.59.6)\n",
            "Requirement already satisfied: anyio<5,>=3.5.0 in /usr/local/lib/python3.11/dist-packages (from openai) (3.7.1)\n",
            "Requirement already satisfied: distro<2,>=1.7.0 in /usr/local/lib/python3.11/dist-packages (from openai) (1.9.0)\n",
            "Requirement already satisfied: httpx<1,>=0.23.0 in /usr/local/lib/python3.11/dist-packages (from openai) (0.28.1)\n",
            "Requirement already satisfied: jiter<1,>=0.4.0 in /usr/local/lib/python3.11/dist-packages (from openai) (0.8.2)\n",
            "Requirement already satisfied: pydantic<3,>=1.9.0 in /usr/local/lib/python3.11/dist-packages (from openai) (2.10.5)\n",
            "Requirement already satisfied: sniffio in /usr/local/lib/python3.11/dist-packages (from openai) (1.3.1)\n",
            "Requirement already satisfied: tqdm>4 in /usr/local/lib/python3.11/dist-packages (from openai) (4.67.1)\n",
            "Requirement already satisfied: typing-extensions<5,>=4.11 in /usr/local/lib/python3.11/dist-packages (from openai) (4.12.2)\n",
            "Requirement already satisfied: idna>=2.8 in /usr/local/lib/python3.11/dist-packages (from anyio<5,>=3.5.0->openai) (3.10)\n",
            "Requirement already satisfied: certifi in /usr/local/lib/python3.11/dist-packages (from httpx<1,>=0.23.0->openai) (2024.12.14)\n",
            "Requirement already satisfied: httpcore==1.* in /usr/local/lib/python3.11/dist-packages (from httpx<1,>=0.23.0->openai) (1.0.7)\n",
            "Requirement already satisfied: h11<0.15,>=0.13 in /usr/local/lib/python3.11/dist-packages (from httpcore==1.*->httpx<1,>=0.23.0->openai) (0.14.0)\n",
            "Requirement already satisfied: annotated-types>=0.6.0 in /usr/local/lib/python3.11/dist-packages (from pydantic<3,>=1.9.0->openai) (0.7.0)\n",
            "Requirement already satisfied: pydantic-core==2.27.2 in /usr/local/lib/python3.11/dist-packages (from pydantic<3,>=1.9.0->openai) (2.27.2)\n"
          ]
        }
      ],
      "source": [
        "!pip install openai"
      ]
    },
    {
      "cell_type": "code",
      "execution_count": null,
      "metadata": {
        "colab": {
          "base_uri": "https://localhost:8080/"
        },
        "id": "7S-wvDvQWgln",
        "outputId": "45051bbe-d87a-4c43-a92d-916ae8db6dc5"
      },
      "outputs": [
        {
          "output_type": "stream",
          "name": "stdout",
          "text": [
            "Collecting tiktoken\n",
            "  Downloading tiktoken-0.8.0-cp311-cp311-manylinux_2_17_x86_64.manylinux2014_x86_64.whl.metadata (6.6 kB)\n",
            "Collecting python-dotenv\n",
            "  Downloading python_dotenv-1.0.1-py3-none-any.whl.metadata (23 kB)\n",
            "Requirement already satisfied: regex>=2022.1.18 in /usr/local/lib/python3.11/dist-packages (from tiktoken) (2024.11.6)\n",
            "Requirement already satisfied: requests>=2.26.0 in /usr/local/lib/python3.11/dist-packages (from tiktoken) (2.32.3)\n",
            "Requirement already satisfied: charset-normalizer<4,>=2 in /usr/local/lib/python3.11/dist-packages (from requests>=2.26.0->tiktoken) (3.4.1)\n",
            "Requirement already satisfied: idna<4,>=2.5 in /usr/local/lib/python3.11/dist-packages (from requests>=2.26.0->tiktoken) (3.10)\n",
            "Requirement already satisfied: urllib3<3,>=1.21.1 in /usr/local/lib/python3.11/dist-packages (from requests>=2.26.0->tiktoken) (2.3.0)\n",
            "Requirement already satisfied: certifi>=2017.4.17 in /usr/local/lib/python3.11/dist-packages (from requests>=2.26.0->tiktoken) (2024.12.14)\n",
            "Downloading tiktoken-0.8.0-cp311-cp311-manylinux_2_17_x86_64.manylinux2014_x86_64.whl (1.2 MB)\n",
            "\u001b[2K   \u001b[90m━━━━━━━━━━━━━━━━━━━━━━━━━━━━━━━━━━━━━━━━\u001b[0m \u001b[32m1.2/1.2 MB\u001b[0m \u001b[31m13.3 MB/s\u001b[0m eta \u001b[36m0:00:00\u001b[0m\n",
            "\u001b[?25hDownloading python_dotenv-1.0.1-py3-none-any.whl (19 kB)\n",
            "Installing collected packages: python-dotenv, tiktoken\n",
            "Successfully installed python-dotenv-1.0.1 tiktoken-0.8.0\n"
          ]
        }
      ],
      "source": [
        "!pip install tiktoken python-dotenv"
      ]
    },
    {
      "cell_type": "code",
      "execution_count": null,
      "metadata": {
        "id": "lE2xbRqPWgln"
      },
      "outputs": [],
      "source": [
        "import os\n",
        "\n",
        "# Definir las variables de entorno dentro de Google Collab\n",
        "os.environ[\"AZURE_OPENAI_ENDPOINT\"] = \"YOUR_ENDPOINT\"\n",
        "os.environ[\"AZURE_OPENAI_API_KEY\"] = \"YOUR_KEY\""
      ]
    },
    {
      "cell_type": "code",
      "execution_count": null,
      "metadata": {
        "id": "uhNRinBEWgln"
      },
      "outputs": [],
      "source": [
        "import re\n",
        "import requests\n",
        "import sys\n",
        "from openai import AzureOpenAI\n",
        "import tiktoken\n",
        "from dotenv import load_dotenv\n",
        "load_dotenv()\n",
        "\n",
        "client = AzureOpenAI(\n",
        "  azure_endpoint = os.getenv(\"AZURE_OPENAI_ENDPOINT\"),\n",
        "  api_key=os.getenv(\"AZURE_OPENAI_API_KEY\"),\n",
        "  api_version=\"2024-02-15-preview\"\n",
        ")\n",
        "\n",
        "CHAT_COMPLETIONS_MODEL = \"gpt-4o-mini\"\n",
        "SEED = 123"
      ]
    },
    {
      "cell_type": "markdown",
      "metadata": {
        "id": "OaM0pVDjWgln"
      },
      "source": [
        "# Parameter: max_tokens\n",
        "**Description**: The maximum number of tokens to generate in the completion. \\\n",
        "**Default**: 16 \\\n",
        "**Example**: max_tokens=50\n",
        "\n",
        "The token count of your prompt plus max_tokens can't exceed the model's context length. \\\n",
        "Most models have a context length of 2048 tokens (except for the newest models, which support 4096). Please refer to documentation."
      ]
    },
    {
      "cell_type": "code",
      "execution_count": null,
      "metadata": {
        "colab": {
          "base_uri": "https://localhost:8080/"
        },
        "id": "CKCt87fTWgln",
        "outputId": "517d477c-6275-45d4-d110-a60058107ff3"
      },
      "outputs": [
        {
          "output_type": "stream",
          "name": "stdout",
          "text": [
            "Max Tokens: 16\n",
            "\n",
            "The best pet can vary greatly depending on individual preferences, lifestyles, and living situations\n",
            "\n",
            "--------------------------------------------------------------------------------\n",
            "\n",
            "Max Tokens: 32\n",
            "\n",
            "The best pet can vary depending on individual preferences, lifestyles, and needs. Here are a few popular options and some of their benefits:\n",
            "\n",
            "1. **Dogs**\n",
            "\n",
            "--------------------------------------------------------------------------------\n",
            "\n",
            "Max Tokens: 60\n",
            "\n",
            "The best pet can vary greatly depending on individual preferences, lifestyle, and living situation. Here are some popular options:\n",
            "\n",
            "1. **Dogs**: Known for their loyalty and companionship, dogs are often considered the best pets for active individuals or families.\n",
            "\n",
            "2. **Cats**: Cats are generally more independent\n",
            "\n",
            "--------------------------------------------------------------------------------\n",
            "\n",
            "Max Tokens: 100\n",
            "\n",
            "The best pet can vary greatly depending on individual preferences, lifestyles, and living situations. Some people might say that dogs are the best pets because they are loyal, loving, and great companions. Others might prefer cats for their independence and lower maintenance needs. Small pets like rabbits, guinea pigs, or hamsters can be ideal for people with limited space or who want a pet that requires less time commitment. Birds, reptiles, and fish also offer unique companionship and can be very rewarding to care for.\n",
            "\n",
            "Ultimately\n",
            "\n",
            "--------------------------------------------------------------------------------\n",
            "\n"
          ]
        }
      ],
      "source": [
        "def call_openai_with_max_tokens(max_tokens):\n",
        "    response = client.chat.completions.create(\n",
        "          model=\"gpt-4o-mini\",\n",
        "          messages = [{\"role\":\"system\", \"content\":\"You are a helpful assistant.\"},\n",
        "                    {\"role\":\"user\",\"content\": \"The best pet is a\"}],\n",
        "                    max_tokens=max_tokens\n",
        "    )\n",
        "    return response.choices[0].message.content\n",
        "\n",
        "# Generate with different presence_penalty values\n",
        "penalties = [16, 32, 60, 100]\n",
        "for penalty in penalties:\n",
        "    print(f\"Max Tokens: {penalty}\\n\")\n",
        "    print(call_openai_with_max_tokens(penalty))\n",
        "    print(\"\\n\" + \"-\"*80 + \"\\n\")"
      ]
    },
    {
      "cell_type": "markdown",
      "metadata": {
        "id": "aVY2_-FGWglo"
      },
      "source": [
        "# Parameter: temperature\n",
        "\n",
        "**Description**: Controls the randomness of the output. Lower values make the output more deterministic, while higher values increase randomness. \\\n",
        "**Value Range**: 0 to 1 \\\n",
        "**Default Value**: 1 \\\n",
        "**Example**: temperature=0.7\n",
        "\n",
        "Higher values means the model will take more risks. \\\n",
        "Try 0.9 for more creative applications, and 0 (argmax sampling) for ones with a well-defined answer.\n",
        "\n",
        "---\n",
        "**NOTE**: We generally recommend altering this or top_p but not both.\n"
      ]
    },
    {
      "cell_type": "code",
      "execution_count": null,
      "metadata": {
        "id": "GBwjSc2VWglo"
      },
      "outputs": [],
      "source": [
        "def call_openai(num_times, prompt, temperature=0.75, use_seed=False):\n",
        "    for i in range(num_times):\n",
        "        if use_seed:\n",
        "            response = client.chat.completions.create(\n",
        "                model= CHAT_COMPLETIONS_MODEL,\n",
        "                messages = [{\"role\":\"system\", \"content\":\"You are a helpful assistant.\"},\n",
        "                    {\"role\":\"user\",\"content\": prompt}],\n",
        "                    max_tokens=60,\n",
        "                    seed=SEED,\n",
        "                    temperature = temperature\n",
        "            )\n",
        "        else:\n",
        "            response = client.chat.completions.create(\n",
        "                model= CHAT_COMPLETIONS_MODEL,\n",
        "                messages = [{\"role\":\"system\", \"content\":\"You are a helpful assistant.\"},\n",
        "                    {\"role\":\"user\",\"content\": prompt}],\n",
        "                    max_tokens=60,\n",
        "                    temperature = temperature\n",
        "            )\n",
        "        print(response.choices[0].message.content)"
      ]
    },
    {
      "cell_type": "code",
      "execution_count": null,
      "metadata": {
        "colab": {
          "base_uri": "https://localhost:8080/"
        },
        "id": "8wm6xeH9Wglo",
        "outputId": "6fc9cabe-da52-4e8a-e3e9-ee56827682eb"
      },
      "outputs": [
        {
          "output_type": "stream",
          "name": "stdout",
          "text": [
            "The best pet can vary greatly depending on individual preferences, lifestyles, and needs. Some popular options include:\n",
            "\n",
            "- **Dogs**: Known for their loyalty and companionship, dogs can be great for active individuals or families who enjoy spending time outdoors.\n",
            "- **Cats**: Cats are often more independent than dogs\n",
            "The best pet really depends on individual preferences, lifestyle, and needs. For some people, dogs are the best pets because they're loyal, affectionate, and great companions. Others might prefer cats for their independence and low maintenance. Some people may enjoy the company of small animals like rabbits, hamsters, or\n",
            "The best pet can vary greatly depending on individual preferences, lifestyles, and living situations. Here are some popular options:\n",
            "\n",
            "1. **Dogs**: Known for their loyalty and companionship, dogs are great for active individuals and families. They require regular exercise and social interaction.\n",
            "\n",
            "2. **Cats**: Cats\n",
            "The best pet can vary greatly depending on individual preferences, lifestyle, and living situation. Here are some popular options:\n",
            "\n",
            "1. **Dogs**: Known for their loyalty and companionship, dogs are great for active individuals or families. They require regular exercise and social interaction.\n",
            "\n",
            "2. **Cats**: Cats\n",
            "The best pet can vary from person to person, depending on lifestyle, preferences, and living situation. Some popular options include:\n",
            "\n",
            "1. **Dogs** - Often considered loyal companions, great for active individuals or families.\n",
            "2. **Cats** - Independent and low-maintenance, ideal for people with busy\n",
            "The best pet can vary greatly depending on individual preferences, lifestyles, and living situations. Some people might consider dogs to be the best pets due to their loyalty and companionship, while others might prefer cats for their independence and low maintenance. Small pets like hamsters, rabbits, or guinea pigs can be great\n",
            "The best pet can vary greatly depending on individual preferences, lifestyles, and living situations. Some people may consider dogs the best pets because they are loyal, social, and can be great companions. Others might prefer cats for their independence and low maintenance. Small pets like hamsters, guinea pigs, or rabbits\n",
            "The best pet can vary greatly depending on individual preferences, lifestyles, and living situations. Here are a few options that people often consider:\n",
            "\n",
            "1. **Dogs**: Known for their loyalty and companionship, dogs are often referred to as \"man's best friend\". They require regular exercise, training, and social\n",
            "The best pet can vary depending on individual preferences, lifestyles, and circumstances. Some popular choices for pets include:\n",
            "\n",
            "1. **Dogs** - Known for their loyalty and companionship, dogs are often considered \"man's best friend.\" They require regular exercise and social interaction.\n",
            "\n",
            "2. **Cats** - Independent yet\n",
            "The best pet can vary greatly depending on individual preferences, lifestyles, and needs. Some popular options include:\n",
            "\n",
            "1. **Dogs** - Loyal companions, great for active individuals or families.\n",
            "2. **Cats** - Independent, low-maintenance, and affectionate.\n",
            "3. **Fish** - Beautiful and\n"
          ]
        }
      ],
      "source": [
        "# Without seed and temperature, the response is different each time\n",
        "call_openai(10, 'The best pet is a ')"
      ]
    },
    {
      "cell_type": "code",
      "execution_count": null,
      "metadata": {
        "colab": {
          "base_uri": "https://localhost:8080/"
        },
        "id": "ntA-aJPbWglo",
        "outputId": "054d7a5e-ae33-4213-a29b-6c3cb8a9896b"
      },
      "outputs": [
        {
          "output_type": "stream",
          "name": "stdout",
          "text": [
            "The best pet can vary greatly depending on individual preferences, lifestyles, and living situations. Here are a few popular options:\n",
            "\n",
            "1. **Dogs**: Known for their loyalty and companionship, dogs are often considered \"man's best friend.\" They require regular exercise and social interaction.\n",
            "\n",
            "2. **Cats**:\n",
            "The best pet can vary greatly depending on individual preferences, lifestyles, and living situations. Here are a few popular options:\n",
            "\n",
            "1. **Dogs**: Known for their loyalty and companionship, dogs are often considered \"man's best friend.\" They require regular exercise and social interaction.\n",
            "\n",
            "2. **Cats**:\n",
            "The best pet can vary greatly depending on individual preferences, lifestyles, and living situations. Here are a few popular options:\n",
            "\n",
            "1. **Dogs**: Known for their loyalty and companionship, dogs are often considered \"man's best friend.\" They require regular exercise and social interaction.\n",
            "\n",
            "2. **Cats**:\n",
            "The best pet can vary greatly depending on individual preferences, lifestyles, and living situations. Here are a few popular options:\n",
            "\n",
            "1. **Dogs**: Known for their loyalty and companionship, dogs are often considered \"man's best friend.\" They require regular exercise and social interaction.\n",
            "\n",
            "2. **Cats**:\n",
            "The best pet can vary greatly depending on individual preferences, lifestyles, and living situations. Here are a few popular options:\n",
            "\n",
            "1. **Dogs**: Known for their loyalty and companionship, dogs are often considered \"man's best friend.\" They require regular exercise and social interaction.\n",
            "\n",
            "2. **Cats**:\n",
            "The best pet can vary greatly depending on individual preferences, lifestyles, and living situations. Here are a few popular options:\n",
            "\n",
            "1. **Dogs**: Known for their loyalty and companionship, dogs are often considered \"man's best friend.\" They require regular exercise and social interaction.\n",
            "\n",
            "2. **Cats**:\n",
            "The best pet can vary greatly depending on individual preferences, lifestyles, and living situations. Here are a few popular options:\n",
            "\n",
            "1. **Dogs**: Known for their loyalty and companionship, dogs are often considered \"man's best friend.\" They require regular exercise and social interaction.\n",
            "\n",
            "2. **Cats**:\n",
            "The best pet can vary greatly depending on individual preferences, lifestyles, and living situations. Here are a few popular options:\n",
            "\n",
            "1. **Dogs**: Known for their loyalty and companionship, dogs are often considered \"man's best friend.\" They require regular exercise and social interaction.\n",
            "\n",
            "2. **Cats**:\n",
            "The best pet can vary greatly depending on individual preferences, lifestyles, and living situations. Here are a few popular options:\n",
            "\n",
            "1. **Dogs**: Known for their loyalty and companionship, dogs are often considered \"man's best friend.\" They require regular exercise and social interaction.\n",
            "\n",
            "2. **Cats**:\n",
            "The best pet can vary greatly depending on individual preferences, lifestyles, and living situations. Here are a few popular options:\n",
            "\n",
            "1. **Dogs**: Known for their loyalty and companionship, dogs are often considered \"man's best friend.\" They require regular exercise and social interaction.\n",
            "\n",
            "2. **Cats**:\n"
          ]
        }
      ],
      "source": [
        "# Now using a seed and 0 temperature, the response is the much more consisitent\n",
        "call_openai(10, 'The best pet is a ', temperature = 0, use_seed=True)"
      ]
    },
    {
      "cell_type": "markdown",
      "metadata": {
        "id": "WM3_VCjbWglo"
      },
      "source": [
        "# Parameter: n\n",
        "**Description**: Specifies the number of completions to generate for each prompt. \\\n",
        "**Default Value**: 1 \\\n",
        "**Example**: n = 3\n",
        "\n",
        "---\n",
        "**Note**: Because this parameter generates many completions, it can quickly consume your token quota. Use carefully and ensure that you have reasonable settings for max_tokens and stop."
      ]
    },
    {
      "cell_type": "code",
      "execution_count": null,
      "metadata": {
        "colab": {
          "base_uri": "https://localhost:8080/"
        },
        "id": "uMg-Hk3uWglo",
        "outputId": "2724e160-2add-4989-8279-6c9254ee2346"
      },
      "outputs": [
        {
          "output_type": "stream",
          "name": "stdout",
          "text": [
            "0 The best pet is often considered to be one that fits well with your lifestyle, preferences, and living situation. For some, dogs are the best pets due to their loyalty, companionship, and ability to bond closely with humans. Others might prefer cats for their independence and lower maintenance needs. \n",
            "\n",
            "If you\n",
            "1 The best pet can vary greatly depending on a person's lifestyle, preferences, and living situation. Here are a few options, each with its own advantages:\n",
            "\n",
            "1. **Dogs**: Known for their loyalty and companionship, dogs are great for active individuals and families. They require regular exercise, training, and\n",
            "2 The best pet is often subjective and depends on individual preferences, lifestyles, and circumstances. Here are some popular options and what makes them great:\n",
            "\n",
            "1. **Dogs**: Known for their loyalty and companionship. They can be great for active individuals or families, as they often enjoy outdoor activities and playtime\n"
          ]
        }
      ],
      "source": [
        "response = client.chat.completions.create(\n",
        "                model= CHAT_COMPLETIONS_MODEL,\n",
        "                messages = [{\"role\":\"system\", \"content\":\"You are a helpful assistant.\"},\n",
        "                    {\"role\":\"user\",\"content\": \"The best pet is a\"}],\n",
        "                    max_tokens=60,\n",
        "                    seed=SEED,\n",
        "                    temperature = 0.8,\n",
        "                    n=3\n",
        "            )\n",
        "\n",
        "for index, c in enumerate(response.choices):\n",
        "    print(index, c.message.content)"
      ]
    },
    {
      "cell_type": "markdown",
      "metadata": {
        "id": "peB8vg6BWglp"
      },
      "source": [
        "# Parameter: presence_penalty\n",
        "**Description**: Penalizes new tokens based on whether they appear in the text so far, encouraging the model to use new tokens. \\\n",
        "**Value Range**: -2.0 to 2.0 \\\n",
        "**Default Value**: 0 \\\n",
        "**Example**: presence_penalty=0.5"
      ]
    },
    {
      "cell_type": "code",
      "execution_count": null,
      "metadata": {
        "colab": {
          "base_uri": "https://localhost:8080/"
        },
        "id": "d17KBWIHWglp",
        "outputId": "024fe2ff-097c-41d1-de2a-c5b3a0c9e35b"
      },
      "outputs": [
        {
          "output_type": "stream",
          "name": "stdout",
          "text": [
            "Presence Penalty: 0\n",
            "\n",
            "The best pet can vary greatly depending on individual preferences, lifestyles, and living situations. Here are a few popular options:\n",
            "\n",
            "1. **Dogs**: Known for their loyalty and companionship, dogs are often considered one of the best pets. They require regular exercise, training, and social interaction.\n",
            "\n",
            "2.\n",
            "\n",
            "--------------------------------------------------------------------------------\n",
            "\n",
            "Presence Penalty: 0.5\n",
            "\n",
            "The best pet can vary widely depending on an individual's lifestyle, preferences, and needs. Here are some popular options:\n",
            "\n",
            "1. **Dog**: Often called \"man's best friend,\" dogs are loyal companions and great for active individuals or families. They require regular exercise and social interaction.\n",
            "\n",
            "2. **Cat\n",
            "\n",
            "--------------------------------------------------------------------------------\n",
            "\n",
            "Presence Penalty: 1.0\n",
            "\n",
            "The best pet can vary depending on individual preferences, lifestyles, and living situations. Here are a few popular options:\n",
            "\n",
            "1. **Dogs**: Known for their loyalty and companionship, dogs are highly trainable and can be great for active families or individuals who enjoy outdoor activities.\n",
            "\n",
            "2. **Cats**\n",
            "\n",
            "--------------------------------------------------------------------------------\n",
            "\n",
            "Presence Penalty: 1.5\n",
            "\n",
            "The best pet can vary greatly depending on an individual's lifestyle, preferences, and living situation. Here are a few popular options that people often consider:\n",
            "\n",
            "1. **Dogs**: Known for their loyalty and companionship, dogs require regular exercise and social interaction. They come in various breeds that suit different lifestyles.\n",
            "\n",
            "\n",
            "\n",
            "--------------------------------------------------------------------------------\n",
            "\n",
            "Presence Penalty: 2.0\n",
            "\n",
            "The best pet can vary depending on an individual's lifestyle, preferences, and living situation. Here are a few popular options:\n",
            "\n",
            "1. **Dogs**: Known for their loyalty and companionship, dogs require regular exercise and social interaction. They're great for active individuals or families.\n",
            "\n",
            "2. **Cats**: Cats\n",
            "\n",
            "--------------------------------------------------------------------------------\n",
            "\n"
          ]
        }
      ],
      "source": [
        "def call_openai_with_presence_penalty(presence_penalty):\n",
        "    response = client.chat.completions.create(\n",
        "          model=CHAT_COMPLETIONS_MODEL,\n",
        "          messages = [{\"role\":\"system\", \"content\":\"You are a helpful assistant.\"},\n",
        "                    {\"role\":\"user\",\"content\": \"The best pet is a\"}],\n",
        "                    max_tokens=60,\n",
        "                    presence_penalty= presence_penalty\n",
        "    )\n",
        "    return response.choices[0].message.content\n",
        "\n",
        "# Generate with different presence_penalty values\n",
        "penalties = [0, 0.5, 1.0, 1.5, 2.0]\n",
        "for penalty in penalties:\n",
        "    print(f\"Presence Penalty: {penalty}\\n\")\n",
        "    print(call_openai_with_presence_penalty(penalty))\n",
        "    print(\"\\n\" + \"-\"*80 + \"\\n\")"
      ]
    },
    {
      "cell_type": "markdown",
      "metadata": {
        "id": "gCAA4MrEWglp"
      },
      "source": [
        "# Parameter: frequency_penalty\n",
        "**Description**: Penalizes new tokens based on their existing frequency in the text so far, reducing the likelihood of repeating the same line verbatim. \\\n",
        "**Value Range**: -2.0 to 2.0 \\\n",
        "**Default Value**: 0 \\\n",
        "**Example**: frequency_penalty=0.5"
      ]
    },
    {
      "cell_type": "markdown",
      "metadata": {
        "id": "JR5qMaKDWglp"
      },
      "source": [
        "#### Use cases to explore\n",
        "1. **Compare Responses** \\\n",
        "Generate multiple completions to compare and choose the best response for your use case.\n",
        "\n",
        "2. **Increase Diversity** \\\n",
        "Use multiple completions to get a variety of responses, which is useful in creative applications.\n",
        "\n",
        "3. **Enhance Robustness** \\\n",
        "Generate multiple responses to ensure consistency and accuracy across different completions.\n",
        "\n",
        "#### Best Practices\n",
        "1. **Optimize Prompt Length** \\\n",
        "Keep your prompts concise but informative to ensure the model has enough context.\n",
        "\n",
        "2. **Adjust Temperature and Top_p** \\\n",
        "Use these parameters to balance between deterministic and creative responses.\n",
        "\n",
        "3. **Monitor Token Usage** \\\n",
        "Be mindful of the max_tokens parameter to manage costs and response length.\n",
        "\n",
        "4. **Use Stopping Sequences** \\\n",
        "Define stopping sequences to control where the model should stop generating text, ensuring the output is within the desired context.\n",
        "\n",
        "5. **Generate Multiple Completions** \\\n",
        "Use the n parameter to generate multiple completions and select the best one for your needs."
      ]
    },
    {
      "cell_type": "markdown",
      "metadata": {
        "id": "GMk4l1I2Wglp"
      },
      "source": [
        "## Exercise 1: Exploring 'top_p' Parameter\n",
        "### Description:\n",
        "- The 'top_p' parameter controls nucleus sampling. Lower values make the output more focused by limiting the pool of tokens.\n",
        "\n",
        "### Task:\n",
        "- Write a function that calls the model with different 'top_p' values and observe how the output changes.\n"
      ]
    },
    {
      "cell_type": "code",
      "execution_count": null,
      "metadata": {
        "colab": {
          "base_uri": "https://localhost:8080/"
        },
        "id": "ZHCWshLRWglp",
        "outputId": "555e82a6-27f2-4007-d09d-e3d78d351867"
      },
      "outputs": [
        {
          "output_type": "stream",
          "name": "stdout",
          "text": [
            "Top P: 0.1\n",
            "\n",
            "Exercise offers a wide range of benefits for both physical and mental health. Here are some of the key advantages:\n",
            "\n",
            "### Physical Health Benefits:\n",
            "1. **Improved Cardiovascular Health**: Regular exercise strengthens the heart, improves circulation, and helps lower blood pressure and cholesterol levels.\n",
            "2. **Weight Management\n",
            "\n",
            "--------------------------------------------------------------------------------\n",
            "\n",
            "Top P: 0.3\n",
            "\n",
            "Exercise offers a wide range of benefits for both physical and mental health. Here are some of the key advantages:\n",
            "\n",
            "### Physical Health Benefits\n",
            "1. **Improved Cardiovascular Health**: Regular exercise strengthens the heart, improves circulation, and helps lower blood pressure and cholesterol levels.\n",
            "2. **Weight Management\n",
            "\n",
            "--------------------------------------------------------------------------------\n",
            "\n",
            "Top P: 0.7\n",
            "\n",
            "Exercise offers a wide range of benefits for both physical and mental health. Here are some of the key advantages:\n",
            "\n",
            "### Physical Health Benefits:\n",
            "1. **Improved Cardiovascular Health**: Regular exercise strengthens the heart, improves circulation, and lowers blood pressure, reducing the risk of heart disease.\n",
            "\n",
            "2.\n",
            "\n",
            "--------------------------------------------------------------------------------\n",
            "\n",
            "Top P: 1.0\n",
            "\n",
            "Exercise offers a wide range of benefits for both physical and mental health. Here are some of the key advantages:\n",
            "\n",
            "### Physical Benefits:\n",
            "1. **Improved Cardiovascular Health**: Regular exercise strengthens the heart, improves circulation, and lowers blood pressure, reducing the risk of heart disease and stroke.\n",
            "   \n",
            "\n",
            "\n",
            "--------------------------------------------------------------------------------\n",
            "\n"
          ]
        }
      ],
      "source": [
        "def call_openai_with_top_p(top_p):\n",
        "    response = client.chat.completions.create(\n",
        "          model= CHAT_COMPLETIONS_MODEL,\n",
        "          messages = [{\"role\":\"system\", \"content\":\"You are a helpful assistant.\"},\n",
        "                    {\"role\":\"user\",\"content\": \"Describe the benefits of exercise.\"}],\n",
        "                    max_tokens=60,\n",
        "                    top_p= top_p\n",
        "    )\n",
        "    return response.choices[0].message.content\n",
        "\n",
        "# Try with different values of top_p\n",
        "top_p_values = [0.1, 0.3, 0.7, 1.0]\n",
        "for value in top_p_values:\n",
        "    print(f\"Top P: {value}\\n\")\n",
        "    print(call_openai_with_top_p(value))\n",
        "    print(\"\\n\" + \"-\"*80 + \"\\n\")\n"
      ]
    },
    {
      "cell_type": "markdown",
      "metadata": {
        "id": "q_b63FvZWglp"
      },
      "source": [
        "## Exercise 2: Frequency Penalty Exploration\n",
        "### Description:\n",
        "- This exercise will explore how the 'frequency_penalty' parameter affects the model's tendency to repeat itself.\n",
        "\n",
        "### Task:\n",
        "- Generate completions using different frequency_penalty values and note the diversity in responses.\n",
        "\n"
      ]
    },
    {
      "cell_type": "code",
      "execution_count": null,
      "metadata": {
        "colab": {
          "base_uri": "https://localhost:8080/"
        },
        "id": "oYgl5ecEWglp",
        "outputId": "4e3032b9-115c-4104-a6e5-a55af5f9f6b9"
      },
      "outputs": [
        {
          "output_type": "stream",
          "name": "stdout",
          "text": [
            "Frequency Penalty: -1.0\n",
            "\n",
            "Here's a fun fact about space: There are more stars in the universe than there are grains of sand on all the Earth's beaches! Estimates suggest there are about 100 billion to 200 billion galaxies in the observable universe, each containing millions to trillions of stars. This means the total number of stars\n",
            "\n",
            "--------------------------------------------------------------------------------\n",
            "\n",
            "Frequency Penalty: 0.0\n",
            "\n",
            "A fun fact about space is that a day on Venus is longer than a year on Venus! A single rotation on Venus takes about 243 Earth days, while its orbit around the Sun takes only about 225 Earth days. This means that Venus has extremely slow and prolonged days compared to its year!\n",
            "\n",
            "--------------------------------------------------------------------------------\n",
            "\n",
            "Frequency Penalty: 1.0\n",
            "\n",
            "A fun fact about space is that there are more stars in the universe than there are grains of sand on all of Earth's beaches! Astronomers estimate that there are about 100 billion to 200 billion galaxies, each containing billions of stars. This means the total number of stars could be as high\n",
            "\n",
            "--------------------------------------------------------------------------------\n",
            "\n",
            "Frequency Penalty: 2.0\n",
            "\n",
            "One fun fact about space is that it's completely silent! Unlike on Earth, where sound travels through air, space has no atmosphere to carry sound waves. This means that if you were in a vacuum of space, you'd be unable to hear anything at all—no stars twinkling or rockets roaring!\n",
            "\n",
            "--------------------------------------------------------------------------------\n",
            "\n"
          ]
        }
      ],
      "source": [
        "def call_openai_with_frequency_penalty(frequency_penalty):\n",
        "    response = client.chat.completions.create(\n",
        "          model=CHAT_COMPLETIONS_MODEL,\n",
        "          messages = [{\"role\":\"system\", \"content\":\"You are a helpful assistant.\"},\n",
        "                    {\"role\":\"user\",\"content\": \"Tell me a fun fact about space.\"}],\n",
        "                    max_tokens=60,\n",
        "                    frequency_penalty= frequency_penalty\n",
        "    )\n",
        "    return response.choices[0].message.content\n",
        "\n",
        "penalties = [-1.0, 0.0, 1.0, 2.0]\n",
        "for penalty in penalties:\n",
        "    print(f\"Frequency Penalty: {penalty}\\n\")\n",
        "    print(call_openai_with_frequency_penalty(penalty))\n",
        "    print(\"\\n\" + \"-\"*80 + \"\\n\")\n"
      ]
    },
    {
      "cell_type": "markdown",
      "metadata": {
        "id": "zMyQ6kQIWglq"
      },
      "source": [
        "## Exercise 3: Multi-Completion with 'n' Parameter\n",
        "### Description:\n",
        "- This exercise will help students generate multiple completions for the same prompt and compare the results.\n",
        "\n",
        "### Task:\n",
        "- Generate 3 completions for the same prompt by adjusting the 'n' parameter.\n"
      ]
    },
    {
      "cell_type": "code",
      "execution_count": null,
      "metadata": {
        "colab": {
          "base_uri": "https://localhost:8080/"
        },
        "id": "nnwxggFVWglq",
        "outputId": "0e85604e-ac65-4a28-d3e9-1f04a5e3e6d8"
      },
      "outputs": [
        {
          "output_type": "stream",
          "name": "stdout",
          "text": [
            "0 The best pet can vary greatly depending on personal preferences, lifestyles, and living situations. Here are some popular options:\n",
            "\n",
            "1. **Dogs**: Known for their loyalty and companionship, dogs are great for active individuals or families. They require regular exercise, training, and social interaction.\n",
            "\n",
            "2. **Cats\n",
            "1 The best pet can vary greatly depending on a person's lifestyle, preferences, and living situation. Here are a few options, each with its own advantages:\n",
            "\n",
            "1. **Dogs**: Known for their loyalty and companionship, dogs are great for active individuals and families. They require regular exercise, training, and\n",
            "2 The best pet is often subjective and depends on individual preferences, lifestyles, and living situations. Here are a few popular options:\n",
            "\n",
            "1. **Dogs**: Known for their loyalty and companionship, dogs are great for active individuals or families. They require regular exercise and training.\n",
            "\n",
            "2. **Cats**:\n",
            "3 The best pet can vary greatly depending on individual preferences, lifestyles, and living situations. Some popular choices include:\n",
            "\n",
            "1. **Dogs** - Known for their loyalty and companionship, dogs are great for active individuals or families who can provide them with love and care.\n",
            "\n",
            "2. **Cats** - Cats are\n",
            "4 The best pet can vary greatly depending on individual preferences, lifestyles, and living situations. Some popular choices include:\n",
            "\n",
            "- **Dogs**: Often considered loyal companions, dogs are known for their playful nature and ability to bond closely with their owners. They require regular exercise and training.\n",
            "\n",
            "- **Cats**:\n",
            "5 The best pet often depends on an individual's lifestyle, preferences, and needs. Some popular options include:\n",
            "\n",
            "1. **Dogs**: Known for their loyalty and companionship, dogs are great for active individuals and families. They require regular exercise and social interaction.\n",
            "\n",
            "2. **Cats**: Cats are more independent\n"
          ]
        }
      ],
      "source": [
        "response = client.chat.completions.create(\n",
        "                model= CHAT_COMPLETIONS_MODEL,\n",
        "                messages = [{\"role\":\"system\", \"content\":\"You are a helpful assistant.\"},\n",
        "                    {\"role\":\"user\",\"content\": \"The best pet is a\"}],\n",
        "                    max_tokens=60,\n",
        "                    seed=SEED,\n",
        "                    temperature = 0.8,\n",
        "                    n=6\n",
        "            )\n",
        "\n",
        "for index, c in enumerate(response.choices):\n",
        "    print(index, c.message.content)"
      ]
    },
    {
      "cell_type": "markdown",
      "metadata": {
        "id": "OFW23HNkWglq"
      },
      "source": [
        "## Exercise 4: Temperature vs. Deterministic Output\n",
        "### Description:\n",
        "- Adjust the 'temperature' parameter to explore the balance between creative and deterministic responses.\n",
        "\n",
        "### Task:\n",
        "- Generate completions with different temperature values and analyze the variance in output.\n"
      ]
    },
    {
      "cell_type": "code",
      "execution_count": null,
      "metadata": {
        "colab": {
          "base_uri": "https://localhost:8080/"
        },
        "id": "vWW0XBPKWglq",
        "outputId": "8f156091-c8fb-4f80-ee28-d969217c1cbb"
      },
      "outputs": [
        {
          "output_type": "stream",
          "name": "stdout",
          "text": [
            "Temperature: 0.0\n",
            "\n",
            "Sure! Here are some suggestions for a tech startup name:\n",
            "\n",
            "1. **TechNova**\n",
            "2. **InnoSphere**\n",
            "3. **ByteBridge\n",
            "\n",
            "--------------------------------------------------------------------------------\n",
            "\n",
            "Temperature: 0.3\n",
            "\n",
            "Sure! Here are some suggestions for a tech startup name:\n",
            "\n",
            "1. **TechNova**\n",
            "2. **InnoSphere**\n",
            "3. **ByteBridge\n",
            "\n",
            "--------------------------------------------------------------------------------\n",
            "\n",
            "Temperature: 0.7\n",
            "\n",
            "Sure! Here are several suggestions for a tech startup name:\n",
            "\n",
            "1. **InnoVate**\n",
            "2. **TechNexus**\n",
            "3. **\n",
            "\n",
            "--------------------------------------------------------------------------------\n",
            "\n",
            "Temperature: 1.0\n",
            "\n",
            "Sure! Here are a few suggestions for tech startup names:\n",
            "\n",
            "1. **TechNest**\n",
            "2. **InnoVibe**\n",
            "3. **Next\n",
            "\n",
            "--------------------------------------------------------------------------------\n",
            "\n"
          ]
        }
      ],
      "source": [
        "def call_openai_with_temperature(temperature):\n",
        "    response = client.chat.completions.create(\n",
        "          model=CHAT_COMPLETIONS_MODEL,\n",
        "          messages = [{\"role\":\"system\", \"content\":\"You are a helpful assistant.\"},\n",
        "                    {\"role\":\"user\",\"content\": \"Suggest a name for a new tech startup.\"}],\n",
        "                    max_tokens=30,\n",
        "                    temperature= temperature\n",
        "    )\n",
        "    return response.choices[0].message.content\n",
        "\n",
        "temperatures = [0.0, 0.3, 0.7, 1.0]\n",
        "for temp in temperatures:\n",
        "    print(f\"Temperature: {temp}\\n\")\n",
        "    print(call_openai_with_temperature(temp))\n",
        "    print(\"\\n\" + \"-\"*80 + \"\\n\")"
      ]
    }
  ],
  "metadata": {
    "kernelspec": {
      "display_name": "Python 3",
      "language": "python",
      "name": "python3"
    },
    "language_info": {
      "codemirror_mode": {
        "name": "ipython",
        "version": 3
      },
      "file_extension": ".py",
      "mimetype": "text/x-python",
      "name": "python",
      "nbconvert_exporter": "python",
      "pygments_lexer": "ipython3",
      "version": "3.12.4"
    },
    "colab": {
      "provenance": []
    }
  },
  "nbformat": 4,
  "nbformat_minor": 0
}