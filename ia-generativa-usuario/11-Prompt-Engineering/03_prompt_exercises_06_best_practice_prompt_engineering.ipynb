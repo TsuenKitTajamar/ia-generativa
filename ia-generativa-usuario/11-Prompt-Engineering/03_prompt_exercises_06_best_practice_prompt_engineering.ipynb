{
 "cells": [
  {
   "cell_type": "markdown",
   "metadata": {
    "id": "eJJwfhmQn222"
   },
   "source": [
    "# Best Practices for Prompt Engineering\n",
    "\n"
   ]
  },
  {
   "cell_type": "code",
   "execution_count": 2,
   "metadata": {
    "colab": {
     "base_uri": "https://localhost:8080/"
    },
    "id": "4Zo8dKrsoJEG",
    "outputId": "3bc70e30-3da5-45a8-b5e0-ccc5c8a7913c"
   },
   "outputs": [
    {
     "name": "stdout",
     "output_type": "stream",
     "text": [
      "Requirement already satisfied: openai in /usr/local/lib/python3.11/dist-packages (1.59.9)\n",
      "Collecting tiktoken\n",
      "  Downloading tiktoken-0.8.0-cp311-cp311-manylinux_2_17_x86_64.manylinux2014_x86_64.whl.metadata (6.6 kB)\n",
      "Collecting python-dotenv\n",
      "  Downloading python_dotenv-1.0.1-py3-none-any.whl.metadata (23 kB)\n",
      "Requirement already satisfied: anyio<5,>=3.5.0 in /usr/local/lib/python3.11/dist-packages (from openai) (3.7.1)\n",
      "Requirement already satisfied: distro<2,>=1.7.0 in /usr/local/lib/python3.11/dist-packages (from openai) (1.9.0)\n",
      "Requirement already satisfied: httpx<1,>=0.23.0 in /usr/local/lib/python3.11/dist-packages (from openai) (0.28.1)\n",
      "Requirement already satisfied: jiter<1,>=0.4.0 in /usr/local/lib/python3.11/dist-packages (from openai) (0.8.2)\n",
      "Requirement already satisfied: pydantic<3,>=1.9.0 in /usr/local/lib/python3.11/dist-packages (from openai) (2.10.5)\n",
      "Requirement already satisfied: sniffio in /usr/local/lib/python3.11/dist-packages (from openai) (1.3.1)\n",
      "Requirement already satisfied: tqdm>4 in /usr/local/lib/python3.11/dist-packages (from openai) (4.67.1)\n",
      "Requirement already satisfied: typing-extensions<5,>=4.11 in /usr/local/lib/python3.11/dist-packages (from openai) (4.12.2)\n",
      "Requirement already satisfied: regex>=2022.1.18 in /usr/local/lib/python3.11/dist-packages (from tiktoken) (2024.11.6)\n",
      "Requirement already satisfied: requests>=2.26.0 in /usr/local/lib/python3.11/dist-packages (from tiktoken) (2.32.3)\n",
      "Requirement already satisfied: idna>=2.8 in /usr/local/lib/python3.11/dist-packages (from anyio<5,>=3.5.0->openai) (3.10)\n",
      "Requirement already satisfied: certifi in /usr/local/lib/python3.11/dist-packages (from httpx<1,>=0.23.0->openai) (2024.12.14)\n",
      "Requirement already satisfied: httpcore==1.* in /usr/local/lib/python3.11/dist-packages (from httpx<1,>=0.23.0->openai) (1.0.7)\n",
      "Requirement already satisfied: h11<0.15,>=0.13 in /usr/local/lib/python3.11/dist-packages (from httpcore==1.*->httpx<1,>=0.23.0->openai) (0.14.0)\n",
      "Requirement already satisfied: annotated-types>=0.6.0 in /usr/local/lib/python3.11/dist-packages (from pydantic<3,>=1.9.0->openai) (0.7.0)\n",
      "Requirement already satisfied: pydantic-core==2.27.2 in /usr/local/lib/python3.11/dist-packages (from pydantic<3,>=1.9.0->openai) (2.27.2)\n",
      "Requirement already satisfied: charset-normalizer<4,>=2 in /usr/local/lib/python3.11/dist-packages (from requests>=2.26.0->tiktoken) (3.4.1)\n",
      "Requirement already satisfied: urllib3<3,>=1.21.1 in /usr/local/lib/python3.11/dist-packages (from requests>=2.26.0->tiktoken) (2.3.0)\n",
      "Downloading tiktoken-0.8.0-cp311-cp311-manylinux_2_17_x86_64.manylinux2014_x86_64.whl (1.2 MB)\n",
      "\u001b[2K   \u001b[90m━━━━━━━━━━━━━━━━━━━━━━━━━━━━━━━━━━━━━━━━\u001b[0m \u001b[32m1.2/1.2 MB\u001b[0m \u001b[31m12.8 MB/s\u001b[0m eta \u001b[36m0:00:00\u001b[0m\n",
      "\u001b[?25hDownloading python_dotenv-1.0.1-py3-none-any.whl (19 kB)\n",
      "Installing collected packages: python-dotenv, tiktoken\n",
      "Successfully installed python-dotenv-1.0.1 tiktoken-0.8.0\n"
     ]
    }
   ],
   "source": [
    "!pip install openai tiktoken python-dotenv"
   ]
  },
  {
   "cell_type": "code",
   "execution_count": null,
   "metadata": {
    "id": "0A6se0v7oZ2m"
   },
   "outputs": [],
   "source": [
    "import os\n",
    "\n",
    "# Definir las variables de entorno dentro de Google Collab\n",
    "os.environ[\"AZURE_OPENAI_ENDPOINT\"] = \"YOUR_ENDPOINT\"\n",
    "os.environ[\"AZURE_OPENAI_API_KEY\"] = \"YOUR_KEY\""
   ]
  },
  {
   "cell_type": "code",
   "execution_count": 4,
   "metadata": {
    "id": "iX2MXtnjn223"
   },
   "outputs": [],
   "source": [
    "import re\n",
    "import requests\n",
    "import sys\n",
    "import os\n",
    "from openai import AzureOpenAI\n",
    "import openai\n",
    "import tiktoken\n",
    "from dotenv import load_dotenv\n",
    "load_dotenv()\n",
    "\n",
    "client = AzureOpenAI(\n",
    "  azure_endpoint = os.getenv(\"AZURE_OPENAI_ENDPOINT\"),\n",
    "  api_key=os.getenv(\"AZURE_OPENAI_API_KEY\"),\n",
    "  api_version=\"2024-02-15-preview\"\n",
    ")\n",
    "\n",
    "CHAT_COMPLETIONS_MODEL = \"gpt-4o-mini\""
   ]
  },
  {
   "cell_type": "markdown",
   "metadata": {
    "id": "T0KxjNcMn223"
   },
   "source": [
    "# 1. Use the latest model\n",
    "\n",
    "Use the latest model for best results."
   ]
  },
  {
   "cell_type": "markdown",
   "metadata": {
    "id": "0EbVIOLDn223"
   },
   "source": [
    "# 2. Put instructions at the begining of the prompt and use ### or \"\"\" to separate the instruction and context"
   ]
  },
  {
   "cell_type": "code",
   "execution_count": 5,
   "metadata": {
    "colab": {
     "base_uri": "https://localhost:8080/"
    },
    "id": "ZtfANVMin223",
    "outputId": "16c6a89e-2897-41cc-8962-defaa986c5e7"
   },
   "outputs": [
    {
     "name": "stdout",
     "output_type": "stream",
     "text": [
      "- OpenAI and Microsoft are extending their partnership.\n",
      "- This is a multi-year, multi-billion dollar investment from Microsoft.\n",
      "- Microsoft previously invested in OpenAI in 2019 and 2021.\n",
      "- The investment will support OpenAI's independent research.\n",
      "- The goal is to develop AI that is safe, useful, and powerful.\n",
      "- OpenAI is a capped-profit company governed by a non-profit structure.\n",
      "- This structure enables OpenAI to raise capital while prioritizing safety and sharing benefits.\n",
      "- Microsoft shares OpenAI's vision and values, making their partnership vital for progress.\n"
     ]
    }
   ],
   "source": [
    "# Define las instrucciones que guiarán al modelo para que resuma el texto dado, como una lista de viñetas.\n",
    "# Luego, utiliza esas instrucciones para construir un \"prompt\" (entrada) que incluye el contexto del texto a resumir.\n",
    "\n",
    "instrucctiones = 'Resume el texto dado, como una lista de viñetas. \\n\\n '\n",
    "\n",
    "prompt = f\"{instrucctiones} ###\\n\\nWe’re happy to announce that OpenAI and Microsoft are extending our partnership.\\\n",
    "        This multi-year, multi-billion dollar investment from Microsoft follows their previous investments \\\n",
    "        in 2019 and 2021, and will allow us to continue our independent research and develop AI that is \\\n",
    "        increasingly safe, useful, and powerful. \\n\\n \\\n",
    "        In pursuit of our mission to ensure advanced AI benefits all of humanity, OpenAI remains a \\\n",
    "        capped-profit company and is governed by the OpenAI non-profit. This structure allows us to \\\n",
    "        raise the capital we need to fulfill our mission without sacrificing our core beliefs about \\\n",
    "        broadly sharing benefits and the need to prioritize safety. \\\n",
    "        Microsoft shares this vision and our values, and our partnership is instrumental to our progress. \\n###\"\n",
    "response = client.chat.completions.create(\n",
    "    model=CHAT_COMPLETIONS_MODEL,\n",
    "    messages = [{\"role\":\"system\", \"content\":\"You are a helpful assistant.\"},\n",
    "                {\"role\":\"user\",\"content\": prompt}],\n",
    "        max_tokens=400,)\n",
    "\n",
    "print(response.choices[0].message.content)"
   ]
  },
  {
   "cell_type": "markdown",
   "metadata": {
    "id": "chijNJpln224"
   },
   "source": [
    "# 3. Be specific, descriptive and as detailed as possible about the desired context, outcome, length, format, style, etc"
   ]
  },
  {
   "cell_type": "code",
   "execution_count": null,
   "metadata": {
    "colab": {
     "base_uri": "https://localhost:8080/"
    },
    "id": "oWbta1d4n224",
    "outputId": "b778ab2b-1a7f-4958-cb1b-d60cdba79467"
   },
   "outputs": [
    {
     "name": "stdout",
     "output_type": "stream",
     "text": [
      "In the heart of code where knowledge streams,  \n",
      "A spark ignites, transforming dreams.  \n",
      "Words that dance on silken threads,  \n",
      "OpenAI, where curiosity spreads.  \n",
      "\n",
      "From circuits deep and data wide,  \n",
      "A whisper of wisdom, a guide inside.  \n",
      "Crafting thoughts from ones and zeroes,  \n",
      "A tapestry woven of digital heroes.  \n",
      "\n",
      "With language as art and logic as light,  \n",
      "We explore the shadows and reach for the bright.  \n",
      "In queries and answers, we find our way,  \n",
      "A bridge to the future, come what may.  \n",
      "\n",
      "In the realm of the mind, where limits persist,  \n",
      "You broaden horizons, uncoil the mist.  \n",
      "From science to stories, from math to the muse,  \n",
      "A wellspring of wonders, a world we can use.  \n",
      "\n",
      "Yet with great power comes duty to heed,  \n",
      "For ethics must flourish in every deed.  \n",
      "To guide our journey, to learn and to grow,  \n",
      "To harness the knowledge for all, and to show.  \n",
      "\n",
      "So here's to the vision that sparks innovation,  \n",
      "To those who create and inspire transformation.  \n",
      "OpenAI, a beacon, forever to strive,  \n",
      "In the cosmos of thought, we together thrive.  \n"
     ]
    }
   ],
   "source": [
    "response = client.chat.completions.create(\n",
    "    model=CHAT_COMPLETIONS_MODEL,\n",
    "    messages = [{\"role\":\"system\", \"content\":\"You are a helpful assistant.\"},\n",
    "                {\"role\":\"user\",\"content\": 'Write a poem about OpenAI.',}],\n",
    "        max_tokens=400,)\n",
    "\n",
    "print(response.choices[0].message.content)\n"
   ]
  },
  {
   "cell_type": "code",
   "execution_count": null,
   "metadata": {
    "colab": {
     "base_uri": "https://localhost:8080/"
    },
    "id": "4MRLMClLn224",
    "outputId": "fc08fc52-72aa-4a3a-dff6-fde3b70afa31"
   },
   "outputs": [
    {
     "name": "stdout",
     "output_type": "stream",
     "text": [
      "In quiet dawn, the canvas waits,  \n",
      "Blank as a thought, untouched by light,  \n",
      "With strokes of dreams, the artist creates,  \n",
      "A world where visions take their flight.  \n",
      "\n",
      "DALL-E stirs, born of code and spark,  \n",
      "Crafting wonders from whispers of mind,  \n",
      "Colors collide in a dance, a lark,  \n",
      "Images forged, new realms defined.  \n",
      "\n",
      "Simplicity sings, yet depth runs deep,  \n",
      "Each pixel a promise, each frame a chance,  \n",
      "OpenAI, a light in shadows steep,  \n",
      "Invites the heart to rise and dance.  \n",
      "\n",
      "In the art of the unseen, we find our way,  \n",
      "Where words fade, and visions stay.  \n"
     ]
    }
   ],
   "source": [
    "response = client.chat.completions.create(\n",
    "    model=CHAT_COMPLETIONS_MODEL,\n",
    "    messages = [{\"role\":\"system\", \"content\":\"You are a helpful assistant.\"},\n",
    "                {\"role\":\"user\",\"content\": 'Write a short inspiring poem about OpenAI, \\\n",
    "                focusing on the recent DALL-E product launch in the style of Ernest Hemingway',}],\n",
    "        max_tokens=400,)\n",
    "\n",
    "print(response.choices[0].message.content)\n",
    "\n"
   ]
  },
  {
   "cell_type": "markdown",
   "metadata": {
    "id": "7WShTER2n225"
   },
   "source": [
    "# 4. Articulate the desired output format through examples (example 1, example 2)."
   ]
  },
  {
   "cell_type": "code",
   "execution_count": null,
   "metadata": {
    "colab": {
     "base_uri": "https://localhost:8080/"
    },
    "id": "W5PO2y4_n225",
    "outputId": "aa3847da-8874-4241-afea-7b198a6573ea"
   },
   "outputs": [
    {
     "name": "stdout",
     "output_type": "stream",
     "text": [
      "```json\n",
      "[\n",
      "    {\"text\": \"OpenAI\", \"start\": 28, \"end\": 34},\n",
      "    {\"text\": \"Microsoft\", \"start\": 43, \"end\": 52},\n",
      "    {\"text\": \"2019\", \"start\": 90, \"end\": 94},\n",
      "    {\"text\": \"2021\", \"start\": 99, \"end\": 103}\n",
      "]\n",
      "```\n"
     ]
    }
   ],
   "source": [
    "#Escribe las instrucciones aquí. Las instrucciones deben especificar que el modelo debe:\n",
    "# 1. Extraer los nombres de las empresas y los años del texto.\n",
    "# 2. Generar la salida como un diccionario con 'text', 'start' y 'end'.\n",
    "instrucctiones = ' ...(Extract the companies name and the years from the text)... \\\n",
    "                    Generate output as {{\\\"text\\\": \\\"OpenAI\\\", \\\"start\\\": 28, \\\"end\\\": 34}}' #FIXME\n",
    "\n",
    "prompt = f\"{instrucctiones}  \\\n",
    "        ### We’re happy to announce that OpenAI and Microsoft are extending our partnership. This multi-year, \\\n",
    "        multi-billion dollar investment from Microsoft follows their previous investments in 2019 and 2021, \\\n",
    "        and will allow us to continue our independent research and develop AI that is increasingly safe, useful, and powerful. \\n\\n ### \"\n",
    "\n",
    "\n",
    "response = client.chat.completions.create(\n",
    "    model=CHAT_COMPLETIONS_MODEL,\n",
    "    messages = [{\"role\":\"system\", \"content\":\"You are a helpful assistant.\"},\n",
    "                {\"role\":\"user\",\"content\": prompt,}],\n",
    "        max_tokens=400,)\n",
    "\n",
    "print(response.choices[0].message.content)\n",
    "\n"
   ]
  },
  {
   "cell_type": "code",
   "execution_count": null,
   "metadata": {
    "colab": {
     "base_uri": "https://localhost:8080/"
    },
    "id": "xN6884Y9n225",
    "outputId": "f2b215df-69f5-42bf-b770-4d169f8d0c8e"
   },
   "outputs": [
    {
     "name": "stdout",
     "output_type": "stream",
     "text": [
      "Companies names: OpenAI, Microsoft  \n",
      "Years: 2019, 2021  \n",
      "Topics related with the content: partnership, investment, artificial intelligence, research, safety, usefulness, power  \n",
      "General and comprehensive topics: technology, business, innovation\n"
     ]
    }
   ],
   "source": [
    "\n",
    "# Las instrucciones deben pedir al modelo que extraiga los siguientes tipos de entidades del texto:\n",
    "# 1. Nombres de empresas.\n",
    "# 2. Años.\n",
    "# 3. Temas específicos relacionados con el contenido.\n",
    "# 4. Temas generales y abarcativos.\n",
    "# El formato de salida esperado debe incluir listas separadas por comas para cada tipo de entidad.\n",
    "\n",
    "instrucctiones = 'Extract the following entities from the text: Companies name, years, topics related with the content, general and comprehensive topics. \\n\\n'\n",
    "instrucctiones+='The output should include a list separated by commas \\n\\n'\n",
    "\n",
    "prompt = f\"{instrucctiones}  \\\n",
    "        '\\\n",
    "                We’re happy to announce that OpenAI and Microsoft are extending our partnership.\\\n",
    "                This multi-year, multi-billion dollar investment from Microsoft follows their previous investments \\\n",
    "                in 2019 and 2021, and will allow us to continue our independent research and develop AI that is \\\n",
    "                increasingly safe, useful, and powerful. \\n\\n \\\n",
    "                '\"\n",
    "\n",
    "response = client.chat.completions.create(\n",
    "    model=CHAT_COMPLETIONS_MODEL,\n",
    "    messages = [{\"role\":\"system\", \"content\":\"You are a helpful assistant.\"},\n",
    "                {\"role\":\"user\",\"content\":prompt,}],\n",
    "        max_tokens=400,)\n",
    "\n",
    "print(response.choices[0].message.content)\n",
    "\n"
   ]
  },
  {
   "cell_type": "markdown",
   "metadata": {
    "id": "HkJANN_On225"
   },
   "source": [
    "# 5. Start with zero-shot, then few-shot (example), neither of them worked, then fine-tune (To update)"
   ]
  },
  {
   "cell_type": "code",
   "execution_count": null,
   "metadata": {
    "colab": {
     "base_uri": "https://localhost:8080/"
    },
    "id": "hh3ZoooRn225",
    "outputId": "bf2bd6bb-33fa-43d9-f7cd-f902664cc802"
   },
   "outputs": [
    {
     "name": "stdout",
     "output_type": "stream",
     "text": [
      "OpenAI, Microsoft, partnership, multi-year, multi-billion dollar investment, research, AI, safe, useful, powerful.\n"
     ]
    }
   ],
   "source": [
    "#THIS IS zero-shot\n",
    "\n",
    "response = client.chat.completions.create(\n",
    "    model=CHAT_COMPLETIONS_MODEL,\n",
    "    messages = [{\"role\":\"system\", \"content\":\"You are a helpful assistant. Extract keywords from the corresponding texts below.\"},\n",
    "                {\"role\":\"user\",\"content\": 'Text: \\n\\\n",
    "            We’re happy to announce that OpenAI and Microsoft are extending our partnership.\\\n",
    "            This multi-year, multi-billion dollar investment from Microsoft follows their previous investments \\\n",
    "            in 2019 and 2021, and will allow us to continue our independent research and develop AI that is \\\n",
    "            increasingly safe, useful, and powerful. \\n\\nKeywords:    ',}],\n",
    "        max_tokens=400,)\n",
    "\n",
    "print(response.choices[0].message.content)\n",
    "\n"
   ]
  },
  {
   "cell_type": "code",
   "execution_count": null,
   "metadata": {
    "colab": {
     "base_uri": "https://localhost:8080/"
    },
    "id": "7vC1qxeAn225",
    "outputId": "65819b5a-db3d-496d-ea72-2d07d151a4dc"
   },
   "outputs": [
    {
     "name": "stdout",
     "output_type": "stream",
     "text": [
      "OpenAI, Microsoft, partnership, investment, independent research, AI, safe, useful, powerful.\n"
     ]
    }
   ],
   "source": [
    "#Few Shot learning\n",
    "\n",
    "\n",
    "# Escribir las instrucciones para que el modelo extraiga palabras clave del texto, y formatee la salida como listas separadas por comas.\n",
    "\n",
    "instrucctiones = 'Extract key words from the text and format as lists separated by commas. \\n\\n'\n",
    "\n",
    "prompt = f\"{instrucctiones} \\\n",
    "                Text: Stripe provides APIs that web developers can use to integrate \\\n",
    "                payment processing into their websites and mobile applications. \\\n",
    "                Keywords: Stripe, payment processing, APIs, web developers, websites, mobile applications \\\n",
    "                ###\\n\\\n",
    "                Text: OpenAI has trained cutting-edge language models that are very good at understanding \\\n",
    "                and generating text. Our API provides access to these models and can be used to solve virtually \\\n",
    "                any task that involves processing language. \\n\\\n",
    "                Keywords: language models, text processing, API.\\n\\n\\\n",
    "                ##W\"\n",
    "\n",
    "response = client.chat.completions.create(\n",
    "    model=CHAT_COMPLETIONS_MODEL,\n",
    "    messages = [{\"role\":\"system\", \"content\":prompt},\n",
    "                {\"role\":\"user\",\"content\": '\\n\\\n",
    "                Text: We’re happy to announce that OpenAI and Microsoft are extending our partnership.\\\n",
    "                This multi-year, multi-billion dollar investment from Microsoft follows their previous investments \\\n",
    "                in 2019 and 2021, and will allow us to continue our independent research and develop AI that is \\\n",
    "                increasingly safe, useful, and powerful. \\n\\n\\\n",
    "                Keywords:',}],\n",
    "        max_tokens=400,)\n",
    "\n",
    "print(response.choices[0].message.content)\n",
    "\n"
   ]
  },
  {
   "cell_type": "markdown",
   "metadata": {
    "id": "yXb5s-AAn226"
   },
   "source": [
    "# 6. Reduce “fluffy” and imprecise descriptions"
   ]
  },
  {
   "cell_type": "code",
   "execution_count": null,
   "metadata": {
    "colab": {
     "base_uri": "https://localhost:8080/"
    },
    "id": "r_7IOddEn226",
    "outputId": "2ad2c3a1-526b-4f44-f41e-ec295dceb998"
   },
   "outputs": [
    {
     "name": "stdout",
     "output_type": "stream",
     "text": [
      "Introducing the NextGen SafeRide Car Seat — a revolutionary blend of safety, comfort, and style. Engineered with adaptive cushioning and intelligent safety sensors, this innovative car seat ensures your child is secure and supported during every ride. With an easy installation system and a sleek design that complements any vehicle interior, the SafeRide Car Seat is the ultimate choice for modern parents seeking peace of mind on the road. Elevate your travel experience with cutting-edge technology and unparalleled protection.\n"
     ]
    }
   ],
   "source": [
    "response = client.chat.completions.create(\n",
    "    model=CHAT_COMPLETIONS_MODEL,\n",
    "    messages = [{\"role\":\"system\", \"content\":\"You are a helpful assistant.\"},\n",
    "                {\"role\":\"user\",\"content\": 'Write a description for a new product. This product is a new generation of car seat. \\\n",
    "                The description for this product should be fairly short, a few sentences only, and not too much more.',}],\n",
    "        max_tokens=400,)\n",
    "\n",
    "print(response.choices[0].message.content)\n",
    "\n"
   ]
  },
  {
   "cell_type": "code",
   "execution_count": 6,
   "metadata": {
    "colab": {
     "base_uri": "https://localhost:8080/"
    },
    "id": "l6koj4Wgn226",
    "outputId": "60e9bb98-c525-46bc-a890-25dcc0d5adf9"
   },
   "outputs": [
    {
     "name": "stdout",
     "output_type": "stream",
     "text": [
      "Introducing the EcoComfort SmartCar Seat, the next generation of car safety and comfort designed for families on the go. With its innovative adaptive design, this car seat features adjustable support that grows with your child, ensuring optimal safety from infancy through toddlerhood. The built-in smart technology monitors your child’s posture and temperature, providing real-time adjustments and alerts to keep them comfortable and secure. Crafted from eco-friendly materials, it’s not just a car seat; it’s a commitment to sustainability and peace of mind for every journey. Rediscover road trips with the EcoComfort SmartCar Seat, where safety meets sophistication.\n"
     ]
    }
   ],
   "source": [
    "response = client.chat.completions.create(\n",
    "    model=CHAT_COMPLETIONS_MODEL,\n",
    "    messages = [{\"role\":\"system\", \"content\":\"You are a helpful assistant.\"},\n",
    "                {\"role\":\"user\",\"content\": 'Write a description for a new product. This product is a new generation of car seat. \\\n",
    "                Use a 3 to 5 sentence paragraph to describe this product.',}],\n",
    "        max_tokens=400,)\n",
    "\n",
    "print(response.choices[0].message.content)\n",
    "\n"
   ]
  },
  {
   "cell_type": "markdown",
   "metadata": {
    "id": "BdX0QsJUn226"
   },
   "source": [
    "# 7. Instead of just saying what not to do, say what to do instead"
   ]
  },
  {
   "cell_type": "code",
   "execution_count": 7,
   "metadata": {
    "colab": {
     "base_uri": "https://localhost:8080/"
    },
    "id": "5dnoSZYen226",
    "outputId": "6900cdaa-d996-4a38-9f1b-867a36fa73e3"
   },
   "outputs": [
    {
     "name": "stdout",
     "output_type": "stream",
     "text": [
      "I'm sorry to hear that you're having trouble logging in. Can you describe any error messages you're seeing, or let me know what happens when you try to log in?\n"
     ]
    }
   ],
   "source": [
    "response = client.chat.completions.create(\n",
    "    model = CHAT_COMPLETIONS_MODEL,\n",
    "    messages = [{\"role\":\"system\", \"content\":\"You are a helpful assistant.\"},\n",
    "                {\"role\":\"user\",\"content\": 'The following is a conversation between an Agent and a Customer. DO NOT ASK USERNAME OR PASSWORD. DO NOT REPEAT. \\n\\n\\\n",
    "                Customer: I can’t log in to my account.\\n\\\n",
    "                Agent:',}],\n",
    "        max_tokens=400,)\n",
    "\n",
    "print(response.choices[0].message.content)\n"
   ]
  },
  {
   "cell_type": "code",
   "execution_count": 8,
   "metadata": {
    "colab": {
     "base_uri": "https://localhost:8080/"
    },
    "id": "4s1-dbKxn226",
    "outputId": "b8abaea6-c7e8-4522-c8be-e04899d628e3"
   },
   "outputs": [
    {
     "name": "stdout",
     "output_type": "stream",
     "text": [
      "I'm sorry to hear that you're having trouble logging in. There are a few common reasons why this might happen. First, I recommend checking to ensure that you are entering your login credentials correctly. Sometimes, it can be easy to mistype a password or username.\n",
      "\n",
      "If you're still having trouble, you might want to try resetting your password. You can do this by following the instructions in our help article at www.samplewebsite.com/help/faq.\n",
      "\n",
      "If you continue to experience issues, please refer to that article for additional troubleshooting steps or contact support for further assistance.\n"
     ]
    }
   ],
   "source": [
    "response = client.chat.completions.create(\n",
    "    model=CHAT_COMPLETIONS_MODEL,\n",
    "    messages = [{\"role\":\"system\", \"content\":\"You are a helpful assistant.\"},\n",
    "                {\"role\":\"user\",\"content\":'The following is a conversation between an Agent and a Customer. The agent will attempt to diagnose the \\\n",
    "                problem and suggest a solution, whilst refraining from asking any questions related to PII. \\\n",
    "                Instead of asking for PII, such as username or password, refer the user to the help \\\n",
    "                article www.samplewebsite.com/help/faq \\n\\n\\\n",
    "                Customer: I can’t log in to my account. \\n\\\n",
    "                Agent:',}],\n",
    "        max_tokens=400,)\n",
    "\n",
    "print(response.choices[0].message.content)\n"
   ]
  },
  {
   "cell_type": "markdown",
   "metadata": {
    "id": "nv4z3t_8n226"
   },
   "source": [
    "# 8. Code Generation Specific - Use “leading words” to nudge the model toward a particular pattern"
   ]
  },
  {
   "cell_type": "code",
   "execution_count": null,
   "metadata": {
    "colab": {
     "base_uri": "https://localhost:8080/"
    },
    "id": "ddvNsLERn227",
    "outputId": "75aafceb-2bfe-4a56-c576-02cae643df84"
   },
   "outputs": [
    {
     "name": "stdout",
     "output_type": "stream",
     "text": [
      "Here is a simple Python function that follows your instructions. It prompts the user to input a number in miles and then converts it to kilometers.\n",
      "\n",
      "```python\n",
      "def miles_to_kilometers():\n",
      "    # Ask the user for a number in miles\n",
      "    miles = float(input(\"Please enter the number of miles: \"))\n",
      "    \n",
      "    # Convert miles to kilometers (1 mile = 1.60934 kilometers)\n",
      "    kilometers = miles * 1.60934\n",
      "    \n",
      "    # Display the result\n",
      "    print(f\"{miles} miles is equal to {kilometers:.2f} kilometers.\")\n",
      "\n",
      "# Call the function\n",
      "miles_to_kilometers()\n",
      "```\n",
      "\n",
      "To use this function, simply run the code. It will prompt you to enter a number in miles and will then output the equivalent distance in kilometers.\n"
     ]
    }
   ],
   "source": [
    "# Escribir las instrucciones para crear una función simple en Python que:\n",
    "# 1. Pida un número en millas.\n",
    "# 2. Convierta las millas a kilómetros.\n",
    "\n",
    "prompt = 'Create a simple function in Python with this instructions: \\n\\\n",
    "          1. Ask a number in miles \\n\\\n",
    "          2.Convert miles to kilometers'\n",
    "\n",
    "response = client.chat.completions.create(\n",
    "    model=CHAT_COMPLETIONS_MODEL,\n",
    "    messages = [{\"role\":\"system\", \"content\":\"You are a helpful assistant.\"},\n",
    "                {\"role\":\"user\",\"content\":prompt}],\n",
    "        max_tokens=400,)\n",
    "\n",
    "print(response.choices[0].message.content)\n"
   ]
  },
  {
   "cell_type": "code",
   "execution_count": null,
   "metadata": {
    "colab": {
     "base_uri": "https://localhost:8080/"
    },
    "id": "vla1Qym1LENH",
    "outputId": "b96ce32c-f868-4b8d-da08-48e97e500f82"
   },
   "outputs": [
    {
     "name": "stdout",
     "output_type": "stream",
     "text": [
      "Please enter the number of miles: 12454\n",
      "12454.0 miles is equal to 20042.72 kilometers.\n"
     ]
    }
   ],
   "source": [
    "def miles_to_kilometers():\n",
    "    # Ask the user for a number in miles\n",
    "    miles = float(input(\"Please enter the number of miles: \"))\n",
    "\n",
    "    # Convert miles to kilometers (1 mile = 1.60934 kilometers)\n",
    "    kilometers = miles * 1.60934\n",
    "\n",
    "    # Display the result\n",
    "    print(f\"{miles} miles is equal to {kilometers:.2f} kilometers.\")\n",
    "\n",
    "# Call the function\n",
    "miles_to_kilometers()"
   ]
  },
  {
   "cell_type": "markdown",
   "metadata": {
    "id": "fsEEx8yAn227"
   },
   "source": [
    "## Ejercicio 1: Estructuración de Prompts con Separadores\n",
    "\n",
    "Instrucciones: Escribe un prompt que solicite a la IA resumir el siguiente texto en una lista de puntos clave. Asegúrate de usar separadores claros (### o \"\"\").\n",
    "\n",
    "Texto:\n",
    "OpenAI y Microsoft han ampliado su colaboración. Microsoft está invirtiendo miles de millones de dólares durante varios años. Esta inversión permitirá que OpenAI continúe investigando de forma independiente y desarrolle IA segura y útil. OpenAI sigue siendo una empresa de beneficios limitados, regida por su organización sin fines de lucro.\n"
   ]
  },
  {
   "cell_type": "code",
   "execution_count": 27,
   "metadata": {
    "colab": {
     "base_uri": "https://localhost:8080/"
    },
    "id": "DBPwrnVdn227",
    "outputId": "0f981f76-f98b-4a42-a618-0a11d5e62ce4"
   },
   "outputs": [
    {
     "name": "stdout",
     "output_type": "stream",
     "text": [
      "- OpenAI y Microsoft han ampliado su colaboración.\n",
      "- Microsoft invertirá miles de millones de dólares durante varios años.\n",
      "- La inversión permitirá a OpenAI investigar de forma independiente.\n",
      "- OpenAI se enfocará en desarrollar IA segura y útil.\n",
      "- OpenAI sigue siendo una empresa de beneficios limitados, bajo una organización sin fines de lucro.\n"
     ]
    }
   ],
   "source": [
    "texto = 'OpenAI y Microsoft han ampliado su colaboración. Microsoft está invirtiendo miles de millones de dólares durante varios años. \\\n",
    " Esta inversión permitirá que OpenAI continúe investigando de forma independiente y desarrolle IA segura y útil. \\\n",
    " OpenAI sigue siendo una empresa de beneficios limitados, regida por su organización sin fines de lucro.'\n",
    "\n",
    "prompt = f\"Summarize the following text in a key points list: {texto} \"\n",
    "\n",
    "response = client.chat.completions.create(\n",
    "    model=CHAT_COMPLETIONS_MODEL,\n",
    "    messages = [{\"role\":\"system\", \"content\":\"You are a helpful assistant.\"},\n",
    "                {\"role\":\"user\",\"content\": prompt}],\n",
    "    max_tokens=400,\n",
    ")\n",
    "\n",
    "print(response.choices[0].message.content)\n",
    "\n"
   ]
  },
  {
   "cell_type": "markdown",
   "metadata": {
    "id": "BLcnPVtKn227"
   },
   "source": [
    "## Ejercicio 2: Descripción Detallada del Formato Deseado\n",
    "\n",
    "Instrucciones: Escribe un prompt para que la IA extraiga nombres de empresas y años del siguiente texto. Indica explícitamente que se desea el resultado en formato JSON con índices de inicio y fin.\n",
    "\n",
    "Texto:\n",
    "OpenAI y Microsoft han colaborado desde 2019, con inversiones adicionales en 2021 para desarrollar nuevas soluciones de IA.\n",
    "\n",
    "Formato de salida deseado:\n",
    "\n",
    "{\"text\": \"OpenAI\", \"start\": 0, \"end\": 6}\n",
    "{\"text\": \"Microsoft\", \"start\": 10, \"end\": 19}\n",
    "{\"text\": \"2019\", \"start\": 35, \"end\": 39}\n",
    "{\"text\": \"2021\", \"start\": 50, \"end\": 54}"
   ]
  },
  {
   "cell_type": "code",
   "execution_count": 26,
   "metadata": {
    "colab": {
     "base_uri": "https://localhost:8080/"
    },
    "id": "nYG_0ps5n227",
    "outputId": "15a940b5-9bb0-462f-9e29-485cfdf354e1"
   },
   "outputs": [
    {
     "name": "stdout",
     "output_type": "stream",
     "text": [
      "```json\n",
      "{\n",
      "  \"companies\": [\n",
      "    {\n",
      "      \"name\": \"OpenAI\",\n",
      "      \"start_index\": 0,\n",
      "      \"end_index\": 6\n",
      "    },\n",
      "    {\n",
      "      \"name\": \"Microsoft\",\n",
      "      \"start_index\": 10,\n",
      "      \"end_index\": 18\n",
      "    }\n",
      "  ],\n",
      "  \"years\": [\n",
      "    {\n",
      "      \"year\": \"2019\",\n",
      "      \"start_index\": 30,\n",
      "      \"end_index\": 34\n",
      "    },\n",
      "    {\n",
      "      \"year\": \"2021\",\n",
      "      \"start_index\": 50,\n",
      "      \"end_index\": 54\n",
      "    }\n",
      "  ]\n",
      "}\n",
      "```\n"
     ]
    }
   ],
   "source": [
    "texto1 = 'OpenAI y Microsoft han colaborado desde 2019, con inversiones adicionales en 2021 para desarrollar nuevas soluciones de IA.'\n",
    "\n",
    "prompt = f\"Extract the companies name and years from the following text: {texto1} \\n\\\n",
    "The result should be in JSON format with start and end indexes: \"\n",
    "\n",
    "response = client.chat.completions.create(\n",
    "    model=CHAT_COMPLETIONS_MODEL,\n",
    "    messages = [{\"role\":\"system\", \"content\":\"You are an entity extraction assistant.\"},\n",
    "                {\"role\":\"user\",\"content\": prompt }],\n",
    "    max_tokens=400,\n",
    ")\n",
    "\n",
    "print(response.choices[0].message.content)\n"
   ]
  },
  {
   "cell_type": "markdown",
   "metadata": {
    "id": "_ptu-Ohsn227"
   },
   "source": [
    "## Ejercicio 3: Generación de Texto Inspirador\n",
    "\n",
    "Instrucciones: Redacta un prompt que solicite a la IA escribir un poema inspirador. Escribe un poema corto sobre la colaboración entre OpenAI y Microsoft.\n"
   ]
  },
  {
   "cell_type": "code",
   "execution_count": 20,
   "metadata": {
    "colab": {
     "base_uri": "https://localhost:8080/"
    },
    "id": "XhDQqCRUn227",
    "outputId": "b6c9d265-fd52-4a10-e22a-bb106e81b0ad"
   },
   "outputs": [
    {
     "name": "stdout",
     "output_type": "stream",
     "text": [
      "In a world of code and dreams that soar,  \n",
      "Two minds entwined, they seek to explore.  \n",
      "OpenAI’s spark, with wisdom aglow,  \n",
      "Microsoft's reach, together they'll grow.  \n",
      "\n",
      "With silicon hearts and visions so bright,  \n",
      "They craft a tomorrow, igniting the night.  \n",
      "Through lines of soft code, innovation will thrive,  \n",
      "In partnership strong, they breathe life, they drive.  \n",
      "\n",
      "From cloud-kissed heights to the depths of the sea,  \n",
      "A tapestry woven of possibility.  \n",
      "Together they rise, pushing boundaries wide,  \n",
      "In the dance of creation, they stand side by side.  \n",
      "\n",
      "So let each idea take flight on its wings,  \n",
      "With unity strong, see what wonder it brings.  \n",
      "For in collaboration, the future’s embraced,  \n",
      "A symphony of progress, beautifully paced.  \n"
     ]
    }
   ],
   "source": [
    "prompt = \"Write an inspirational short poem about the collaboration between OpenAI and Microsoft\"\n",
    "\n",
    "response = client.chat.completions.create(\n",
    "    model=CHAT_COMPLETIONS_MODEL,\n",
    "    messages = [{\"role\":\"system\", \"content\":\"You are a creative assistant.\"},\n",
    "                {\"role\":\"user\",\"content\": prompt}],\n",
    "    max_tokens=400,\n",
    ")\n",
    "\n",
    "print(response.choices[0].message.content)"
   ]
  },
  {
   "cell_type": "markdown",
   "metadata": {
    "id": "Ia_0srMMn227"
   },
   "source": [
    "## Ejercicio 4: Extracción de Entidades Clave\n",
    "\n",
    "Instrucciones: Escribe un prompt que pida a la IA extraer nombres de empresas, años, temas específicos y temas generales del siguiente texto:\n",
    "\n",
    "Texto:\n",
    "OpenAI y Microsoft han trabajado juntos desde 2019 y reforzaron su colaboración en 2021\n"
   ]
  },
  {
   "cell_type": "markdown",
   "metadata": {
    "id": "N03kT4JxzSAc"
   },
   "source": [
    "Formato esperado:\n",
    "\n",
    "Company names: OpenAI, Microsoft \\\n",
    "Years: 2019, 2021 \\\n",
    "Specific topics: colaboración \\\n",
    "General themes: asociación, tecnología, inteligencia artificial"
   ]
  },
  {
   "cell_type": "code",
   "execution_count": 19,
   "metadata": {
    "colab": {
     "base_uri": "https://localhost:8080/"
    },
    "id": "QnHCZazdn227",
    "outputId": "7423907c-03c4-4d70-a7c0-aa549b316992"
   },
   "outputs": [
    {
     "name": "stdout",
     "output_type": "stream",
     "text": [
      "Company names: OpenAI, Microsoft  \n",
      "Years: 2019, 2021  \n",
      "Specific topics: Collaboration  \n",
      "General themes: Partnership, Technology\n"
     ]
    }
   ],
   "source": [
    "text = 'OpenAI y Microsoft han trabajado juntos desde 2019 y reforzaron su colaboración en 2021'\n",
    "\n",
    "prompt = f\"Extract company names, years data, specific topics and general topics from the following text: \\n\\\\n\\ {text} \\n\\\\n\\\n",
    "Expected format: \\n\\\n",
    "Company names: \\\n",
    "Years: \\\n",
    "Specific topics: \\\n",
    "General themes: \"\n",
    "\n",
    "response = client.chat.completions.create(\n",
    "    model=CHAT_COMPLETIONS_MODEL,\n",
    "    messages = [{\"role\":\"system\", \"content\":\"You are an entity and theme extraction assistant.\"},\n",
    "                {\"role\":\"user\",\"content\": prompt}],\n",
    "    max_tokens=400,\n",
    ")\n",
    "\n",
    "print(response.choices[0].message.content)\n"
   ]
  },
  {
   "cell_type": "markdown",
   "metadata": {
    "id": "ksLAnLx9n227"
   },
   "source": [
    "## Ejercicio 5: Descripciones Concisas de Productos\n",
    "\n",
    "Instrucciones: Escribe un prompt para que la IA describa un nuevo tipo de mochila tecnológica en menos de 4 líneas. La mochila tiene cargador solar, materiales resistentes al agua y un diseño ergonómico.\n",
    "\n"
   ]
  },
  {
   "cell_type": "code",
   "execution_count": 10,
   "metadata": {
    "colab": {
     "base_uri": "https://localhost:8080/"
    },
    "id": "LOK-sqd5n228",
    "outputId": "e4b14218-cbac-4d40-8a05-58866fc95996"
   },
   "outputs": [
    {
     "name": "stdout",
     "output_type": "stream",
     "text": [
      "Introducing the TechFlux Backpack: a sleek, anti-theft design equipped with integrated wireless charging pads, solar panels for on-the-go power, and Bluetooth tracking for lost items. It features customizable compartments with modular dividers, and a built-in smart display that syncs with your devices to show notifications and battery levels. Perfect for tech-savvy travelers and students alike!\n"
     ]
    }
   ],
   "source": [
    "prompt = \"Describe a new technology backpack prototype with a maximum of 4 lines.\"\n",
    "\n",
    "response = client.chat.completions.create(\n",
    "    model=CHAT_COMPLETIONS_MODEL,\n",
    "    messages = [{\"role\":\"system\", \"content\":\"You are a marketing assistant.\"},\n",
    "                {\"role\":\"user\",\"content\": prompt}],\n",
    "    max_tokens=400,\n",
    ")\n",
    "\n",
    "print(response.choices[0].message.content)\n"
   ]
  },
  {
   "cell_type": "code",
   "execution_count": null,
   "metadata": {
    "id": "8dbvyZVln228"
   },
   "outputs": [],
   "source": []
  }
 ],
 "metadata": {
  "colab": {
   "provenance": []
  },
  "kernelspec": {
   "display_name": "Python [conda env:base] *",
   "language": "python",
   "name": "conda-base-py"
  },
  "language_info": {
   "codemirror_mode": {
    "name": "ipython",
    "version": 3
   },
   "file_extension": ".py",
   "mimetype": "text/x-python",
   "name": "python",
   "nbconvert_exporter": "python",
   "pygments_lexer": "ipython3",
   "version": "3.12.7"
  }
 },
 "nbformat": 4,
 "nbformat_minor": 0
}
